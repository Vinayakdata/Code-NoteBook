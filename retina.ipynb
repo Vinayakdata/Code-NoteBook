{
 "cells": [
  {
   "cell_type": "code",
   "execution_count": 2,
   "metadata": {},
   "outputs": [],
   "source": [
    "import tensorflow as tf\n",
    "from tensorflow.keras.models import Sequential\n",
    "from tensorflow.keras.layers import Dense,Dropout,Activation, Flatten, Conv2D, MaxPooling2D, MaxPool2D\n",
    "from keras.optimizers import Adam, RMSprop,SGD, Adagrad\n",
    "from keras.layers import BatchNormalization\n",
    "import numpy as np\n",
    "import matplotlib as plt\n",
    "import numpy as np\n",
    "import pandas as pd\n",
    "import tensorflow as tf\n",
    "from keras.preprocessing import image\n",
    "import glob\n",
    "from keras.preprocessing.image import ImageDataGenerator as idg\n",
    "from keras.layers import Dropout\n",
    "import math\n",
    "from keras.preprocessing import image\n",
    "from keras.preprocessing.image import ImageDataGenerator\n",
    "import keras,os\n",
    "from keras.models import Sequential\n",
    "from keras.layers import Dense, Conv2D, MaxPool2D , Flatten\n",
    "from keras.preprocessing.image import ImageDataGenerator\n",
    "import numpy as np\n",
    "import os\n",
    "import sys\n",
    "import keras\n",
    "keras.__version__\n",
    "from keras import layers\n",
    "from keras import models\n",
    "from keras import optimizers"
   ]
  },
  {
   "cell_type": "code",
   "execution_count": 23,
   "metadata": {},
   "outputs": [
    {
     "name": "stdout",
     "output_type": "stream",
     "text": [
      "Collecting sklearn\n",
      "  Downloading sklearn-0.0.tar.gz (1.1 kB)\n",
      "Collecting scikit-learn\n",
      "  Downloading scikit_learn-0.24.2-cp38-cp38-win_amd64.whl (6.9 MB)\n",
      "Collecting threadpoolctl>=2.0.0\n",
      "  Downloading threadpoolctl-2.2.0-py3-none-any.whl (12 kB)\n",
      "Requirement already satisfied: numpy>=1.13.3 in c:\\users\\hp\\.conda\\envs\\tensorflow\\lib\\site-packages (from scikit-learn->sklearn) (1.18.5)\n",
      "Requirement already satisfied: scipy>=0.19.1 in c:\\users\\hp\\.conda\\envs\\tensorflow\\lib\\site-packages (from scikit-learn->sklearn) (1.7.1)\n",
      "Collecting joblib>=0.11\n",
      "  Downloading joblib-1.0.1-py3-none-any.whl (303 kB)\n",
      "Building wheels for collected packages: sklearn\n",
      "  Building wheel for sklearn (setup.py): started\n",
      "  Building wheel for sklearn (setup.py): finished with status 'done'\n",
      "  Created wheel for sklearn: filename=sklearn-0.0-py2.py3-none-any.whl size=1317 sha256=f07afdef00838c4610d261c8260576d9ed49346a20e6c2a3f9203020a3cd3db2\n",
      "  Stored in directory: c:\\users\\hp\\appdata\\local\\pip\\cache\\wheels\\22\\0b\\40\\fd3f795caaa1fb4c6cb738bc1f56100be1e57da95849bfc897\n",
      "Successfully built sklearn\n",
      "Installing collected packages: threadpoolctl, joblib, scikit-learn, sklearn\n",
      "Successfully installed joblib-1.0.1 scikit-learn-0.24.2 sklearn-0.0 threadpoolctl-2.2.0\n"
     ]
    }
   ],
   "source": [
    "!pip install sklearn"
   ]
  },
  {
   "cell_type": "code",
   "execution_count": 4,
   "metadata": {},
   "outputs": [],
   "source": [
    "import pickle\n",
    "\n",
    "X = pickle.load(open('C:/Users/HP/X_train.pickle','rb'))\n",
    "y = pickle.load(open('C:/Users/HP/y_train.pickle','rb'))\n",
    "\n",
    "X=np.array(X)\n",
    "y=np.array(y)\n",
    "/\n",
    "X = X /255"
   ]
  },
  {
   "cell_type": "markdown",
   "metadata": {},
   "source": [
    "# 1"
   ]
  },
  {
   "cell_type": "code",
   "execution_count": 8,
   "metadata": {},
   "outputs": [
    {
     "name": "stdout",
     "output_type": "stream",
     "text": [
      "Model: \"sequential_4\"\n",
      "_________________________________________________________________\n",
      "Layer (type)                 Output Shape              Param #   \n",
      "=================================================================\n",
      "conv2d_12 (Conv2D)           (None, 98, 98, 32)        320       \n",
      "_________________________________________________________________\n",
      "activation_10 (Activation)   (None, 98, 98, 32)        0         \n",
      "_________________________________________________________________\n",
      "max_pooling2d_10 (MaxPooling (None, 49, 49, 32)        0         \n",
      "_________________________________________________________________\n",
      "conv2d_13 (Conv2D)           (None, 47, 47, 64)        18496     \n",
      "_________________________________________________________________\n",
      "activation_11 (Activation)   (None, 47, 47, 64)        0         \n",
      "_________________________________________________________________\n",
      "max_pooling2d_11 (MaxPooling (None, 23, 23, 64)        0         \n",
      "_________________________________________________________________\n",
      "conv2d_14 (Conv2D)           (None, 18, 18, 128)       295040    \n",
      "_________________________________________________________________\n",
      "activation_12 (Activation)   (None, 18, 18, 128)       0         \n",
      "_________________________________________________________________\n",
      "max_pooling2d_12 (MaxPooling (None, 9, 9, 128)         0         \n",
      "_________________________________________________________________\n",
      "conv2d_15 (Conv2D)           (None, 4, 4, 128)         589952    \n",
      "_________________________________________________________________\n",
      "activation_13 (Activation)   (None, 4, 4, 128)         0         \n",
      "_________________________________________________________________\n",
      "max_pooling2d_13 (MaxPooling (None, 1, 1, 128)         0         \n",
      "_________________________________________________________________\n",
      "flatten_1 (Flatten)          (None, 128)               0         \n",
      "_________________________________________________________________\n",
      "dense_5 (Dense)              (None, 128)               16512     \n",
      "_________________________________________________________________\n",
      "dense_6 (Dense)              (None, 64)                8256      \n",
      "_________________________________________________________________\n",
      "dense_7 (Dense)              (None, 32)                2080      \n",
      "_________________________________________________________________\n",
      "dense_8 (Dense)              (None, 16)                528       \n",
      "_________________________________________________________________\n",
      "dense_9 (Dense)              (None, 4)                 68        \n",
      "=================================================================\n",
      "Total params: 931,252\n",
      "Trainable params: 931,252\n",
      "Non-trainable params: 0\n",
      "_________________________________________________________________\n"
     ]
    }
   ],
   "source": [
    "model = Sequential()\n",
    "model.add(Conv2D(32,(3,3), input_shape = X.shape[1:]))\n",
    "model.add(Activation('relu'))\n",
    "model.add(MaxPooling2D(pool_size = (2,2)))\n",
    "\n",
    "model.add(Conv2D(64,(3,3)))\n",
    "model.add(Activation('relu'))\n",
    "model.add(MaxPooling2D(pool_size = (2,2)))\n",
    "\n",
    "model.add(Conv2D(128,(6,6)))\n",
    "model.add(Activation('relu'))\n",
    "model.add(MaxPooling2D(pool_size = (2,2)))\n",
    "\n",
    "model.add(Conv2D(128,(6,6)))\n",
    "model.add(Activation('relu'))\n",
    "model.add(MaxPooling2D(pool_size = (4,4)))\n",
    "\n",
    "model.add(Flatten())\n",
    "model.add(Dense(units=128, activation = 'relu'))\n",
    "model.add(Dense(units=64, activation = 'relu'))\n",
    "model.add(Dense(units=32, activation = 'relu'))\n",
    "model.add(Dense(units=16, activation = 'relu'))\n",
    "model.add(Dense(4, activation=\"softmax\"))\n",
    "opt = Adam(lr=1e-5)\n",
    "model.compile(loss=\"sparse_categorical_crossentropy\", optimizer=opt, metrics=[\"accuracy\"])\n",
    "model.summary()"
   ]
  },
  {
   "cell_type": "code",
   "execution_count": 14,
   "metadata": {},
   "outputs": [
    {
     "name": "stdout",
     "output_type": "stream",
     "text": [
      "Epoch 1/15\n",
      "2088/2088 [==============================] - 988s 473ms/step - loss: 1.1178 - accuracy: 0.5588 - val_loss: 0.9579 - val_accuracy: 0.6557\n",
      "Epoch 2/15\n",
      "2088/2088 [==============================] - 1009s 483ms/step - loss: 0.8873 - accuracy: 0.6708 - val_loss: 0.8639 - val_accuracy: 0.6693\n",
      "Epoch 3/15\n",
      "2088/2088 [==============================] - 1032s 494ms/step - loss: 0.8235 - accuracy: 0.6851 - val_loss: 0.8362 - val_accuracy: 0.6755\n",
      "Epoch 4/15\n",
      "2088/2088 [==============================] - 1040s 498ms/step - loss: 0.7830 - accuracy: 0.6957 - val_loss: 0.7745 - val_accuracy: 0.6924\n",
      "Epoch 5/15\n",
      "2088/2088 [==============================] - 980s 469ms/step - loss: 0.7515 - accuracy: 0.7045 - val_loss: 0.7439 - val_accuracy: 0.7035\n",
      "Epoch 6/15\n",
      "2088/2088 [==============================] - 833s 399ms/step - loss: 0.7203 - accuracy: 0.7201 - val_loss: 0.7235 - val_accuracy: 0.7214\n",
      "Epoch 7/15\n",
      "2088/2088 [==============================] - 830s 397ms/step - loss: 0.6873 - accuracy: 0.7372 - val_loss: 0.6804 - val_accuracy: 0.7383\n",
      "Epoch 8/15\n",
      "2088/2088 [==============================] - 838s 401ms/step - loss: 0.6591 - accuracy: 0.7519 - val_loss: 0.6600 - val_accuracy: 0.7489\n",
      "Epoch 9/15\n",
      "2088/2088 [==============================] - 2690s 1s/step - loss: 0.6347 - accuracy: 0.7627 - val_loss: 0.6368 - val_accuracy: 0.7630\n",
      "Epoch 10/15\n",
      "2088/2088 [==============================] - 742s 355ms/step - loss: 0.6127 - accuracy: 0.7733 - val_loss: 0.6125 - val_accuracy: 0.7736\n",
      "Epoch 11/15\n",
      "2088/2088 [==============================] - 1405s 673ms/step - loss: 0.5934 - accuracy: 0.7818 - val_loss: 0.6012 - val_accuracy: 0.7807\n",
      "Epoch 12/15\n",
      "2088/2088 [==============================] - 672s 322ms/step - loss: 0.5773 - accuracy: 0.7883 - val_loss: 0.5884 - val_accuracy: 0.7837\n",
      "Epoch 13/15\n",
      "2088/2088 [==============================] - 769s 368ms/step - loss: 0.5619 - accuracy: 0.7949 - val_loss: 0.5882 - val_accuracy: 0.7820\n",
      "Epoch 14/15\n",
      "2088/2088 [==============================] - 783s 375ms/step - loss: 0.5478 - accuracy: 0.8010 - val_loss: 0.5734 - val_accuracy: 0.7898\n",
      "Epoch 15/15\n",
      "2088/2088 [==============================] - 3920s 2s/step - loss: 0.5369 - accuracy: 0.8055 - val_loss: 0.5583 - val_accuracy: 0.7986\n"
     ]
    }
   ],
   "source": [
    "history = model.fit(X, y, epochs = 15, batch_size = 32, validation_split=0.2, verbose=1)"
   ]
  },
  {
   "cell_type": "code",
   "execution_count": 15,
   "metadata": {},
   "outputs": [
    {
     "data": {
      "image/png": "[encoded data removed]",
      "text/plain": [
       "<Figure size 432x288 with 1 Axes>"
      ]
     },
     "metadata": {
      "needs_background": "light"
     },
     "output_type": "display_data"
    }
   ],
   "source": [
    "import matplotlib.pyplot as plt \n",
    "accuracy = history.history['accuracy']\n",
    "val_accuracy = history.history['val_accuracy']\n",
    "loss = history.history['loss']\n",
    "val_loss = history.history['val                                                                  _loss']\n",
    "\n",
    "epochs = range(len(accuracy))\n",
    "\n",
    "plt.plot(epochs, accuracy, 'r', label='Training Accuracy')\n",
    "plt.plot(epochs, val_accuracy, 'b', label='Validation Accuracy')\n",
    "plt.plot(epochs, loss, 'g', label='Training Loss')\n",
    "plt.plot(epochs, val_loss, 'y', label='Validation Loss')\n",
    "\n",
    "plt.title('Training and Validation of Loss  and Accuracy')\n",
    "plt.legend()\n",
    "plt.show()"
   ]
  },
  {
   "cell_type": "code",
   "execution_count": 6,
   "metadata": {},
   "outputs": [],
   "source": [
    "import pickle\n",
    "\n",
    "X_test = pickle.load(open('C:/Users/HP/X_test.pickle','rb'))\n",
    "y_test = pickle.load(open('C:/Users/HP/y_test.pickle','rb'))\n",
    "\n",
    "X_test=np.array(X_test)\n",
    "y_test=np.array(y_test)\n",
    "\n",
    "X_test = X_test /255"
   ]
  },
  {
   "cell_type": "code",
   "execution_count": 7,
   "metadata": {},
   "outputs": [
    {
     "data": {
      "text/plain": [
       "(968,)"
      ]
     },
     "execution_count": 7,
     "metadata": {},
     "output_type": "execute_result"
    }
   ],
   "source": [
    "y_test.shape"
   ]
  },
  {
   "cell_type": "code",
   "execution_count": 24,
   "metadata": {},
   "outputs": [
    {
     "data": {
      "text/plain": [
       "array([[236,   6,   0,   0],\n",
       "       [ 24, 175,   3,  40],\n",
       "       [ 87,  22,  48,  85],\n",
       "       [  0,   1,   0, 241]], dtype=int64)"
      ]
     },
     "execution_count": 24,
     "metadata": {},
     "output_type": "execute_result"
    }
   ],
   "source": [
    "import sklearn\n",
    "from sklearn.metrics import confusion_matrix\n",
    "y_pred = np.argmax(model.predict(X_test), axis=-1)\n",
    "cm = confusion_matrix(y_test,y_pred)\n",
    "cm"
   ]
  },
  {
   "cell_type": "markdown",
   "metadata": {},
   "source": [
    "# 2"
   ]
  },
  {
   "cell_type": "code",
   "execution_count": 26,
   "metadata": {},
   "outputs": [
    {
     "name": "stdout",
     "output_type": "stream",
     "text": [
      "Epoch 1/15\n",
      "2088/2088 [==============================] - 762s 365ms/step - loss: 1.0046 - accuracy: 0.6312 - val_loss: 1.0981 - val_accuracy: 0.5929\n",
      "Epoch 2/15\n",
      "2088/2088 [==============================] - 987s 472ms/step - loss: 0.7385 - accuracy: 0.7443 - val_loss: 0.7402 - val_accuracy: 0.7232\n",
      "Epoch 3/15\n",
      "2088/2088 [==============================] - 966s 463ms/step - loss: 0.6608 - accuracy: 0.7741 - val_loss: 0.6586 - val_accuracy: 0.7653\n",
      "Epoch 4/15\n",
      "2088/2088 [==============================] - 908s 435ms/step - loss: 0.6053 - accuracy: 0.7919 - val_loss: 0.5851 - val_accuracy: 0.7889\n",
      "Epoch 5/15\n",
      "2088/2088 [==============================] - 843s 404ms/step - loss: 0.5583 - accuracy: 0.8060 - val_loss: 0.5697 - val_accuracy: 0.7940\n",
      "Epoch 6/15\n",
      "2088/2088 [==============================] - 790s 379ms/step - loss: 0.5280 - accuracy: 0.8152 - val_loss: 0.5107 - val_accuracy: 0.8210\n",
      "Epoch 7/15\n",
      "2088/2088 [==============================] - 791s 379ms/step - loss: 0.5028 - accuracy: 0.8240 - val_loss: 0.5242 - val_accuracy: 0.8155\n",
      "Epoch 8/15\n",
      "2088/2088 [==============================] - 764s 366ms/step - loss: 0.4858 - accuracy: 0.8312 - val_loss: 0.5053 - val_accuracy: 0.8163\n",
      "Epoch 9/15\n",
      "2088/2088 [==============================] - 726s 348ms/step - loss: 0.4678 - accuracy: 0.8375 - val_loss: 0.5737 - val_accuracy: 0.7786\n",
      "Epoch 10/15\n",
      "2088/2088 [==============================] - 2275s 1s/step - loss: 0.4526 - accuracy: 0.8422 - val_loss: 0.4762 - val_accuracy: 0.8315\n",
      "Epoch 11/15\n",
      "2088/2088 [==============================] - 742s 355ms/step - loss: 0.4375 - accuracy: 0.8481 - val_loss: 0.4437 - val_accuracy: 0.8419\n",
      "Epoch 12/15\n",
      "2088/2088 [==============================] - 794s 380ms/step - loss: 0.4239 - accuracy: 0.8524 - val_loss: 0.4893 - val_accuracy: 0.8168\n",
      "Epoch 13/15\n",
      "2088/2088 [==============================] - 1418s 679ms/step - loss: 0.4111 - accuracy: 0.8568 - val_loss: 0.4598 - val_accuracy: 0.8314\n",
      "Epoch 14/15\n",
      "2088/2088 [==============================] - 798s 382ms/step - loss: 0.3997 - accuracy: 0.8619 - val_loss: 0.4405 - val_accuracy: 0.8421\n",
      "Epoch 15/15\n",
      "2088/2088 [==============================] - 795s 381ms/step - loss: 0.3873 - accuracy: 0.8642 - val_loss: 0.5068 - val_accuracy: 0.8239\n"
     ]
    }
   ],
   "source": [
    "model = Sequential()\n",
    "model.add(Conv2D(32,3,padding=\"same\", activation=\"relu\", input_shape = X.shape[1:]))\n",
    "model.add(MaxPool2D())\n",
    "model.add(Conv2D(32,3,padding=\"same\", activation=\"relu\"))\n",
    "model.add(MaxPool2D())\n",
    "model.add(Conv2D(64, 3, padding=\"same\", activation=\"relu\"))\n",
    "model.add(MaxPool2D())\n",
    "model.add(Conv2D(64, 6, padding=\"same\", activation=\"relu\"))\n",
    "model.add(MaxPool2D())\n",
    "model.add(Conv2D(128, 9, padding=\"same\", activation=\"relu\"))\n",
    "model.add(MaxPool2D())\n",
    "model.add(Conv2D(128, 9, padding=\"same\", activation=\"relu\"))\n",
    "model.add(MaxPool2D())\n",
    "model.add(Flatten())\n",
    "model.add(Dense(256,activation=\"relu\"))\n",
    "model.add(Dense(256,activation=\"relu\"))\n",
    "model.add(Dense(128,activation=\"relu\"))\n",
    "model.add(Dense(64,activation=\"relu\"))\n",
    "model.add(Dense(16,activation=\"relu\"))\n",
    "model.add(Dense(16,activation=\"relu\"))\n",
    "model.add(BatchNormalization())\n",
    "model.add(Dense(4, activation=\"softmax\"))\n",
    "opt = Adam(lr=1e-5)\n",
    "model.compile(loss=\"sparse_categorical_crossentropy\", optimizer=opt, metrics=[\"accuracy\"])\n",
    "history = model.fit(X, y, epochs = 15, batch_size = 32, validation_split=0.2, verbose=1)"
   ]
  },
  {
   "cell_type": "code",
   "execution_count": 27,
   "metadata": {},
   "outputs": [
    {
     "data": {
      "image/png": "[encoded data removed]",
      "text/plain": [
       "<Figure size 432x288 with 1 Axes>"
      ]
     },
     "metadata": {
      "needs_background": "light"
     },
     "output_type": "display_data"
    }
   ],
   "source": [
    "import matplotlib.pyplot as plt \n",
    "accuracy = history.history['accuracy']\n",
    "val_accuracy = history.history['val_accuracy']\n",
    "loss = history.history['loss']\n",
    "val_loss = history.history['val_loss']\n",
    "\n",
    "epochs = range(len(accuracy))\n",
    "\n",
    "plt.plot(epochs, accuracy, 'r', label='Training Accuracy')\n",
    "plt.plot(epochs, val_accuracy, 'b', label='Validation Accuracy')\n",
    "plt.plot(epochs, loss, 'g', label='Training Loss')\n",
    "plt.plot(epochs, val_loss, 'y', label='Validation Loss')\n",
    "\n",
    "plt.title('Training and Validation of Loss  and Accuracy')\n",
    "plt.legend()\n",
    "plt.show()"
   ]
  },
  {
   "cell_type": "code",
   "execution_count": 28,
   "metadata": {},
   "outputs": [
    {
     "data": {
      "text/plain": [
       "array([[236,   5,   1,   0],\n",
       "       [  3, 221,   1,  17],\n",
       "       [ 33,  27, 135,  47],\n",
       "       [  0,   1,   0, 241]], dtype=int64)"
      ]
     },
     "execution_count": 28,
     "metadata": {},
     "output_type": "execute_result"
    }
   ],
   "source": [
    "y_pred = np.argmax(model.predict(X_test), axis=-1)\n",
    "cm = confusion_matrix(y_test,y_pred)\n",
    "cm"
   ]
  },
  {
   "cell_type": "markdown",
   "metadata": {},
   "source": [
    "# 3"
   ]
  },
  {
   "cell_type": "code",
   "execution_count": 6,
   "metadata": {},
   "outputs": [
    {
     "name": "stdout",
     "output_type": "stream",
     "text": [
      "Epoch 1/15\n",
      "2088/2088 [==============================] - 495s 237ms/step - loss: 0.5046 - accuracy: 0.8144 - val_loss: 0.6231 - val_accuracy: 0.7582\n",
      "Epoch 2/15\n",
      "2088/2088 [==============================] - 521s 249ms/step - loss: 0.2942 - accuracy: 0.8985 - val_loss: 0.3685 - val_accuracy: 0.8667\n",
      "Epoch 3/15\n",
      "2088/2088 [==============================] - 477s 228ms/step - loss: 0.2426 - accuracy: 0.9158 - val_loss: 0.3134 - val_accuracy: 0.8977\n",
      "Epoch 4/15\n",
      "2088/2088 [==============================] - 458s 219ms/step - loss: 0.2184 - accuracy: 0.9241 - val_loss: 0.2320 - val_accuracy: 0.9182\n",
      "Epoch 5/15\n",
      "2088/2088 [==============================] - 457s 219ms/step - loss: 0.1971 - accuracy: 0.9319 - val_loss: 0.2312 - val_accuracy: 0.9212\n",
      "Epoch 6/15\n",
      "2088/2088 [==============================] - 469s 225ms/step - loss: 0.1788 - accuracy: 0.9373 - val_loss: 0.2226 - val_accuracy: 0.9241\n",
      "Epoch 7/15\n",
      "2088/2088 [==============================] - 529s 253ms/step - loss: 0.1658 - accuracy: 0.9431 - val_loss: 0.3438 - val_accuracy: 0.8809\n",
      "Epoch 8/15\n",
      "2088/2088 [==============================] - 510s 244ms/step - loss: 0.1526 - accuracy: 0.9466 - val_loss: 0.2378 - val_accuracy: 0.9212\n",
      "Epoch 9/15\n",
      "2088/2088 [==============================] - 511s 245ms/step - loss: 0.1430 - accuracy: 0.9507 - val_loss: 0.2161 - val_accuracy: 0.9321\n",
      "Epoch 10/15\n",
      "2088/2088 [==============================] - 480s 230ms/step - loss: 0.1322 - accuracy: 0.9540 - val_loss: 0.2463 - val_accuracy: 0.9275\n",
      "Epoch 11/15\n",
      "2088/2088 [==============================] - 476s 228ms/step - loss: 0.1220 - accuracy: 0.9574 - val_loss: 0.2802 - val_accuracy: 0.9097\n",
      "Epoch 12/15\n",
      "2088/2088 [==============================] - 477s 228ms/step - loss: 0.1143 - accuracy: 0.9605 - val_loss: 0.2225 - val_accuracy: 0.9287\n",
      "Epoch 13/15\n",
      "2088/2088 [==============================] - 3230s 2s/step - loss: 0.1101 - accuracy: 0.9617 - val_loss: 0.2018 - val_accuracy: 0.9357\n",
      "Epoch 14/15\n",
      "2088/2088 [==============================] - 510s 244ms/step - loss: 0.1002 - accuracy: 0.9653 - val_loss: 0.2838 - val_accuracy: 0.9164\n",
      "Epoch 15/15\n",
      "2088/2088 [==============================] - 541s 259ms/step - loss: 0.0954 - accuracy: 0.9662 - val_loss: 0.2499 - val_accuracy: 0.9206\n"
     ]
    },
    {
     "data": {
      "text/plain": [
       "<tensorflow.python.keras.callbacks.History at 0x21b90dc0880>"
      ]
     },
     "execution_count": 6,
     "metadata": {},
     "output_type": "execute_result"
    }
   ],
   "source": [
    "model = Sequential()\n",
    "model.add(Conv2D(32,3,padding=\"same\", activation=\"relu\", input_shape = X.shape[1:]))\n",
    "model.add(MaxPool2D(2,2))\n",
    "model.add(Conv2D(64, 3, padding=\"same\", activation=\"relu\"))\n",
    "model.add(MaxPool2D(2,2))\n",
    "model.add(Conv2D(128, 3, padding=\"same\", activation=\"relu\"))\n",
    "model.add(MaxPool2D(4,4))\n",
    "model.add(Flatten())\n",
    "model.add(Dense(32,activation=\"relu\"))\n",
    "model.add(Dense(16,activation=\"relu\"))\n",
    "model.add(BatchNormalization())\n",
    "model.add(Dense(4, activation=\"softmax\"))\n",
    "model.compile(loss=\"sparse_categorical_crossentropy\", optimizer=\"Adam\", metrics=[\"accuracy\"])\n",
    "model.fit(X, y, epochs = 15, batch_size = 32, validation_split=0.2, verbose=1)"
   ]
  },
  {
   "cell_type": "code",
   "execution_count": 16,
   "metadata": {},
   "outputs": [
    {
     "data": {
      "text/plain": [
       "array([[240,   2,   0,   0],\n",
       "       [  6, 235,   1,   0],\n",
       "       [  4,   0, 238,   0],\n",
       "       [  0,   0,  10, 232]], dtype=int64)"
      ]
     },
     "execution_count": 16,
     "metadata": {},
     "output_type": "execute_result"
    }
   ],
   "source": [
    "from sklearn.metrics import confusion_matrix\n",
    "\n",
    "y_pred = np.argmax(model.predict(X_test), axis=-1)\n",
    "cm = confusion_matrix(y_test,y_pred)\n",
    "cm"
   ]
  },
  {
   "cell_type": "markdown",
   "metadata": {},
   "source": [
    "# cnn testing\n"
   ]
  },
  {
   "cell_type": "code",
   "execution_count": 6,
   "metadata": {},
   "outputs": [
    {
     "name": "stdout",
     "output_type": "stream",
     "text": [
      "Model: \"sequential_1\"\n",
      "_________________________________________________________________\n",
      "Layer (type)                 Output Shape              Param #   \n",
      "=================================================================\n",
      "conv2d_3 (Conv2D)            (None, 100, 100, 32)      320       \n",
      "_________________________________________________________________\n",
      "max_pooling2d_3 (MaxPooling2 (None, 50, 50, 32)        0         \n",
      "_________________________________________________________________\n",
      "conv2d_4 (Conv2D)            (None, 50, 50, 64)        18496     \n",
      "_________________________________________________________________\n",
      "max_pooling2d_4 (MaxPooling2 (None, 25, 25, 64)        0         \n",
      "_________________________________________________________________\n",
      "conv2d_5 (Conv2D)            (None, 25, 25, 128)       73856     \n",
      "_________________________________________________________________\n",
      "max_pooling2d_5 (MaxPooling2 (None, 6, 6, 128)         0         \n",
      "_________________________________________________________________\n",
      "flatten_1 (Flatten)          (None, 4608)              0         \n",
      "_________________________________________________________________\n",
      "dense_3 (Dense)              (None, 32)                147488    \n",
      "_________________________________________________________________\n",
      "dense_4 (Dense)              (None, 16)                528       \n",
      "_________________________________________________________________\n",
      "batch_normalization_1 (Batch (None, 16)                64        \n",
      "_________________________________________________________________\n",
      "dense_5 (Dense)              (None, 4)                 68        \n",
      "=================================================================\n",
      "Total params: 240,820\n",
      "Trainable params: 240,788\n",
      "Non-trainable params: 32\n",
      "_________________________________________________________________\n"
     ]
    }
   ],
   "source": [
    "model = Sequential()\n",
    "model.add(Conv2D(32,3,padding=\"same\", activation=\"relu\", input_shape = X.shape[1:]))\n",
    "model.add(MaxPool2D(2,2))\n",
    "model.add(Conv2D(64, 3, padding=\"same\", activation=\"relu\"))\n",
    "model.add(MaxPool2D(2,2))\n",
    "model.add(Conv2D(128, 3, padding=\"same\", activation=\"relu\"))\n",
    "model.add(MaxPool2D(4,4))\n",
    "model.add(Flatten())\n",
    "model.add(Dense(32,activation=\"relu\"))\n",
    "model.add(Dense(16,activation=\"relu\"))\n",
    "model.add(BatchNormalization())\n",
    "model.add(Dense(4, activation=\"softmax\"))\n",
    "model.compile(loss=\"sparse_categorical_crossentropy\", optimizer=\"RMSProp\", metrics=[\"accuracy\"])\n",
    "model.summary()"
   ]
  },
  {
   "cell_type": "code",
   "execution_count": 8,
   "metadata": {},
   "outputs": [
    {
     "name": "stdout",
     "output_type": "stream",
     "text": [
      "Epoch 1/15\n",
      "2088/2088 [==============================] - 621s 297ms/step - loss: 0.1628 - accuracy: 0.9434 - val_loss: 0.2248 - val_accuracy: 0.9248\n",
      "Epoch 2/15\n",
      "2088/2088 [==============================] - 597s 286ms/step - loss: 0.1542 - accuracy: 0.9458 - val_loss: 0.7934 - val_accuracy: 0.8085\n",
      "Epoch 3/15\n",
      "2088/2088 [==============================] - 588s 282ms/step - loss: 0.1421 - accuracy: 0.9497 - val_loss: 1.8153 - val_accuracy: 0.6251\n",
      "Epoch 4/15\n",
      "2088/2088 [==============================] - 598s 286ms/step - loss: 0.1345 - accuracy: 0.9527 - val_loss: 0.4297 - val_accuracy: 0.8848\n",
      "Epoch 5/15\n",
      "2088/2088 [==============================] - 664s 318ms/step - loss: 0.1299 - accuracy: 0.9548 - val_loss: 0.2350 - val_accuracy: 0.9276\n",
      "Epoch 6/15\n",
      "2088/2088 [==============================] - 663s 318ms/step - loss: 0.1226 - accuracy: 0.9570 - val_loss: 0.4623 - val_accuracy: 0.8269\n",
      "Epoch 7/15\n",
      "2088/2088 [==============================] - 665s 318ms/step - loss: 0.1153 - accuracy: 0.9600 - val_loss: 0.4294 - val_accuracy: 0.8961\n",
      "Epoch 8/15\n",
      "2088/2088 [==============================] - 720s 345ms/step - loss: 0.1065 - accuracy: 0.9621 - val_loss: 0.3261 - val_accuracy: 0.9005\n",
      "Epoch 9/15\n",
      "2088/2088 [==============================] - 693s 332ms/step - loss: 0.1033 - accuracy: 0.9635 - val_loss: 0.2728 - val_accuracy: 0.9238\n",
      "Epoch 10/15\n",
      "2088/2088 [==============================] - 668s 320ms/step - loss: 0.0984 - accuracy: 0.9656 - val_loss: 0.3971 - val_accuracy: 0.8887\n",
      "Epoch 11/15\n",
      "2088/2088 [==============================] - 706s 338ms/step - loss: 0.0921 - accuracy: 0.9669 - val_loss: 0.3549 - val_accuracy: 0.9074\n",
      "Epoch 12/15\n",
      "2088/2088 [==============================] - 699s 335ms/step - loss: 0.0898 - accuracy: 0.9671 - val_loss: 0.4663 - val_accuracy: 0.8956\n",
      "Epoch 13/15\n",
      "2088/2088 [==============================] - 714s 342ms/step - loss: 0.0863 - accuracy: 0.9692 - val_loss: 0.7910 - val_accuracy: 0.7255\n",
      "Epoch 14/15\n",
      "2088/2088 [==============================] - 643s 308ms/step - loss: 0.0813 - accuracy: 0.9718 - val_loss: 0.3600 - val_accuracy: 0.9137\n",
      "Epoch 15/15\n",
      "2088/2088 [==============================] - 589s 282ms/step - loss: 0.0821 - accuracy: 0.9704 - val_loss: 1.2956 - val_accuracy: 0.7851\n"
     ]
    }
   ],
   "source": [
    "history = model.fit(X, y, epochs = 15, batch_size = 32, validation_split=0.2, verbose=1)"
   ]
  },
  {
   "cell_type": "code",
   "execution_count": 9,
   "metadata": {},
   "outputs": [
    {
     "data": {
      "text/plain": [
       "array([[238,   0,   0,   4],\n",
       "       [ 29,  81,   1, 131],\n",
       "       [ 23,   0, 203,  16],\n",
       "       [  0,   0,   0, 242]], dtype=int64)"
      ]
     },
     "execution_count": 9,
     "metadata": {},
     "output_type": "execute_result"
    }
   ],
   "source": [
    "from sklearn.metrics import confusion_matrix\n",
    "\n",
    "y_pred = np.argmax(model.predict(X_test), axis=-1)\n",
    "cm = confusion_matrix(y_test,y_pred)\n",
    "cm"
   ]
  },
  {
   "cell_type": "code",
   "execution_count": 10,
   "metadata": {},
   "outputs": [
    {
     "data": {
      "image/png": "[encoded data removed]",
      "text/plain": [
       "<Figure size 432x288 with 1 Axes>"
      ]
     },
     "metadata": {
      "needs_background": "light"
     },
     "output_type": "display_data"
    }
   ],
   "source": [
    "import matplotlib.pyplot as plt \n",
    "accuracy = history.history['accuracy']\n",
    "val_accuracy = history.history['val_accuracy']\n",
    "loss = history.history['loss']\n",
    "val_loss = history.history['val_loss']\n",
    "\n",
    "epochs = range(len(accuracy))\n",
    "\n",
    "plt.plot(epochs, accuracy, 'r', label='Training Accuracy')\n",
    "plt.plot(epochs, val_accuracy, 'b', label='Validation Accuracy')\n",
    "plt.plot(epochs, loss, 'g', label='Training Loss')\n",
    "plt.plot(epochs, val_loss, 'y', label='Validation Loss')\n",
    "\n",
    "plt.title('Training and Validation of Loss  and Accuracy')\n",
    "plt.legend()\n",
    "plt.show()"
   ]
  },
  {
   "cell_type": "code",
   "execution_count": 11,
   "metadata": {},
   "outputs": [
    {
     "name": "stdout",
     "output_type": "stream",
     "text": [
      "Model: \"sequential_2\"\n",
      "_________________________________________________________________\n",
      "Layer (type)                 Output Shape              Param #   \n",
      "=================================================================\n",
      "conv2d_6 (Conv2D)            (None, 100, 100, 32)      320       \n",
      "_________________________________________________________________\n",
      "max_pooling2d_6 (MaxPooling2 (None, 50, 50, 32)        0         \n",
      "_________________________________________________________________\n",
      "conv2d_7 (Conv2D)            (None, 50, 50, 64)        18496     \n",
      "_________________________________________________________________\n",
      "max_pooling2d_7 (MaxPooling2 (None, 25, 25, 64)        0         \n",
      "_________________________________________________________________\n",
      "conv2d_8 (Conv2D)            (None, 25, 25, 128)       73856     \n",
      "_________________________________________________________________\n",
      "max_pooling2d_8 (MaxPooling2 (None, 6, 6, 128)         0         \n",
      "_________________________________________________________________\n",
      "flatten_2 (Flatten)          (None, 4608)              0         \n",
      "_________________________________________________________________\n",
      "dense_6 (Dense)              (None, 32)                147488    \n",
      "_________________________________________________________________\n",
      "dense_7 (Dense)              (None, 16)                528       \n",
      "_________________________________________________________________\n",
      "batch_normalization_2 (Batch (None, 16)                64        \n",
      "_________________________________________________________________\n",
      "dense_8 (Dense)              (None, 4)                 68        \n",
      "=================================================================\n",
      "Total params: 240,820\n",
      "Trainable params: 240,788\n",
      "Non-trainable params: 32\n",
      "_________________________________________________________________\n"
     ]
    }
   ],
   "source": [
    "model = Sequential()\n",
    "model.add(Conv2D(32,3,padding=\"same\", activation=\"relu\", input_shape = X.shape[1:]))\n",
    "model.add(MaxPool2D(2,2))\n",
    "model.add(Conv2D(64, 3, padding=\"same\", activation=\"relu\"))\n",
    "model.add(MaxPool2D(2,2))\n",
    "model.add(Conv2D(128, 3, padding=\"same\", activation=\"relu\"))\n",
    "model.add(MaxPool2D(4,4))\n",
    "model.add(Flatten())\n",
    "model.add(Dense(32,activation=\"relu\"))\n",
    "model.add(Dense(16,activation=\"relu\"))\n",
    "model.add(BatchNormalization())\n",
    "model.add(Dense(4, activation=\"softmax\"))\n",
    "model.compile(loss=\"sparse_categorical_crossentropy\", optimizer=\"SGD\", metrics=[\"accuracy\"])\n",
    "model.summary()"
   ]
  },
  {
   "cell_type": "code",
   "execution_count": 12,
   "metadata": {},
   "outputs": [
    {
     "name": "stdout",
     "output_type": "stream",
     "text": [
      "Epoch 1/15\n",
      "2088/2088 [==============================] - 538s 258ms/step - loss: 0.7345 - accuracy: 0.7224 - val_loss: 2.2917 - val_accuracy: 0.6594\n",
      "Epoch 2/15\n",
      "2088/2088 [==============================] - 658s 315ms/step - loss: 0.5121 - accuracy: 0.8151 - val_loss: 0.5622 - val_accuracy: 0.7952\n",
      "Epoch 3/15\n",
      "2088/2088 [==============================] - 668s 320ms/step - loss: 0.3958 - accuracy: 0.8579 - val_loss: 0.4322 - val_accuracy: 0.8485\n",
      "Epoch 4/15\n",
      "2088/2088 [==============================] - 669s 320ms/step - loss: 0.3282 - accuracy: 0.8829 - val_loss: 0.5904 - val_accuracy: 0.7715\n",
      "Epoch 5/15\n",
      "2088/2088 [==============================] - 669s 320ms/step - loss: 0.2868 - accuracy: 0.8995 - val_loss: 4.4359 - val_accuracy: 0.2197\n",
      "Epoch 6/15\n",
      "2088/2088 [==============================] - 671s 321ms/step - loss: 0.2587 - accuracy: 0.9089 - val_loss: 0.6640 - val_accuracy: 0.7695\n",
      "Epoch 7/15\n",
      "2088/2088 [==============================] - 679s 325ms/step - loss: 0.2378 - accuracy: 0.9170 - val_loss: 0.8503 - val_accuracy: 0.7494\n",
      "Epoch 8/15\n",
      "2088/2088 [==============================] - 678s 324ms/step - loss: 0.2221 - accuracy: 0.9220 - val_loss: 0.2694 - val_accuracy: 0.9079\n",
      "Epoch 9/15\n",
      "2088/2088 [==============================] - 684s 328ms/step - loss: 0.2047 - accuracy: 0.9280 - val_loss: 0.2877 - val_accuracy: 0.9059\n",
      "Epoch 10/15\n",
      "2088/2088 [==============================] - 751s 360ms/step - loss: 0.1900 - accuracy: 0.9338 - val_loss: 0.8236 - val_accuracy: 0.7529\n",
      "Epoch 11/15\n",
      "2088/2088 [==============================] - 633s 303ms/step - loss: 0.1786 - accuracy: 0.9363 - val_loss: 0.4294 - val_accuracy: 0.8734\n",
      "Epoch 12/15\n",
      "2088/2088 [==============================] - 619s 297ms/step - loss: 0.1705 - accuracy: 0.9406 - val_loss: 3.9213 - val_accuracy: 0.4885\n",
      "Epoch 13/15\n",
      "2088/2088 [==============================] - 603s 289ms/step - loss: 0.1661 - accuracy: 0.9415 - val_loss: 1.9930 - val_accuracy: 0.5381\n",
      "Epoch 14/15\n",
      "2088/2088 [==============================] - 613s 294ms/step - loss: 0.1524 - accuracy: 0.9453 - val_loss: 1.6979 - val_accuracy: 0.4951\n",
      "Epoch 15/15\n",
      "2088/2088 [==============================] - 620s 297ms/step - loss: 0.1392 - accuracy: 0.9498 - val_loss: 3.2964 - val_accuracy: 0.4116\n"
     ]
    }
   ],
   "source": [
    "history = model.fit(X, y, epochs = 15, batch_size = 32, validation_split=0.2, verbose=1)"
   ]
  },
  {
   "cell_type": "code",
   "execution_count": 13,
   "metadata": {},
   "outputs": [
    {
     "data": {
      "text/plain": [
       "array([[167,  75,   0,   0],\n",
       "       [  0, 242,   0,   0],\n",
       "       [107, 110,  25,   0],\n",
       "       [  0, 220,   0,  22]], dtype=int64)"
      ]
     },
     "execution_count": 13,
     "metadata": {},
     "output_type": "execute_result"
    }
   ],
   "source": [
    "from sklearn.metrics import confusion_matrix\n",
    "\n",
    "y_pred = np.argmax(model.predict(X_test), axis=-1)\n",
    "cm = confusion_matrix(y_test,y_pred)\n",
    "cm"
   ]
  },
  {
   "cell_type": "code",
   "execution_count": 14,
   "metadata": {},
   "outputs": [
    {
     "data": {
      "image/png": "[encoded data removed]",
      "text/plain": [
       "<Figure size 432x288 with 1 Axes>"
      ]
     },
     "metadata": {
      "needs_background": "light"
     },
     "output_type": "display_data"
    }
   ],
   "source": [
    "import matplotlib.pyplot as plt \n",
    "accuracy = history.history['accuracy']\n",
    "val_accuracy = history.history['val_accuracy']\n",
    "loss = history.history['loss']\n",
    "val_loss = history.history['val_loss']\n",
    "\n",
    "epochs = range(len(accuracy))\n",
    "\n",
    "plt.plot(epochs, accuracy, 'r', label='Training Accuracy')\n",
    "plt.plot(epochs, val_accuracy, 'b', label='Validation Accuracy')\n",
    "plt.plot(epochs, loss, 'g', label='Training Loss')\n",
    "plt.plot(epochs, val_loss, 'y', label='Validation Loss')\n",
    "\n",
    "plt.title('Training and Validation of Loss  and Accuracy')\n",
    "plt.legend()\n",
    "plt.show()"
   ]
  },
  {
   "cell_type": "code",
   "execution_count": 15,
   "metadata": {},
   "outputs": [
    {
     "name": "stdout",
     "output_type": "stream",
     "text": [
      "Model: \"sequential_3\"\n",
      "_________________________________________________________________\n",
      "Layer (type)                 Output Shape              Param #   \n",
      "=================================================================\n",
      "conv2d_9 (Conv2D)            (None, 100, 100, 32)      320       \n",
      "_________________________________________________________________\n",
      "max_pooling2d_9 (MaxPooling2 (None, 50, 50, 32)        0         \n",
      "_________________________________________________________________\n",
      "conv2d_10 (Conv2D)           (None, 50, 50, 64)        18496     \n",
      "_________________________________________________________________\n",
      "max_pooling2d_10 (MaxPooling (None, 25, 25, 64)        0         \n",
      "_________________________________________________________________\n",
      "conv2d_11 (Conv2D)           (None, 25, 25, 128)       73856     \n",
      "_________________________________________________________________\n",
      "max_pooling2d_11 (MaxPooling (None, 6, 6, 128)         0         \n",
      "_________________________________________________________________\n",
      "flatten_3 (Flatten)          (None, 4608)              0         \n",
      "_________________________________________________________________\n",
      "dense_9 (Dense)              (None, 32)                147488    \n",
      "_________________________________________________________________\n",
      "dense_10 (Dense)             (None, 16)                528       \n",
      "_________________________________________________________________\n",
      "batch_normalization_3 (Batch (None, 16)                64        \n",
      "_________________________________________________________________\n",
      "dense_11 (Dense)             (None, 4)                 68        \n",
      "=================================================================\n",
      "Total params: 240,820\n",
      "Trainable params: 240,788\n",
      "Non-trainable params: 32\n",
      "_________________________________________________________________\n"
     ]
    }
   ],
   "source": [
    "model = Sequential()\n",
    "model.add(Conv2D(32,3,padding=\"same\", activation=\"relu\", input_shape = X.shape[1:]))\n",
    "model.add(MaxPool2D(2,2))\n",
    "model.add(Conv2D(64, 3, padding=\"same\", activation=\"relu\"))\n",
    "model.add(MaxPool2D(2,2))\n",
    "model.add(Conv2D(128, 3, padding=\"same\", activation=\"relu\"))\n",
    "model.add(MaxPool2D(4,4))\n",
    "model.add(Flatten())\n",
    "model.add(Dense(32,activation=\"relu\"))\n",
    "model.add(Dense(16,activation=\"relu\"))\n",
    "model.add(BatchNormalization())\n",
    "model.add(Dense(4, activation=\"softmax\"))\n",
    "model.compile(loss=\"sparse_categorical_crossentropy\", optimizer=\"Adadelta\", metrics=[\"accuracy\"])\n",
    "model.summary()"
   ]
  },
  {
   "cell_type": "code",
   "execution_count": 16,
   "metadata": {},
   "outputs": [
    {
     "name": "stdout",
     "output_type": "stream",
     "text": [
      "Epoch 1/15\n",
      "2088/2088 [==============================] - 818s 392ms/step - loss: 1.3713 - accuracy: 0.3239 - val_loss: 1.3363 - val_accuracy: 0.3871\n",
      "Epoch 2/15\n",
      "2088/2088 [==============================] - 662s 317ms/step - loss: 1.3141 - accuracy: 0.4198 - val_loss: 1.2741 - val_accuracy: 0.4679\n",
      "Epoch 3/15\n",
      "2088/2088 [==============================] - 676s 324ms/step - loss: 1.2546 - accuracy: 0.4833 - val_loss: 1.2139 - val_accuracy: 0.5178\n",
      "Epoch 4/15\n",
      "2088/2088 [==============================] - 666s 319ms/step - loss: 1.1933 - accuracy: 0.5369 - val_loss: 1.1524 - val_accuracy: 0.5603\n",
      "Epoch 5/15\n",
      "2088/2088 [==============================] - 758s 363ms/step - loss: 1.1318 - accuracy: 0.5794 - val_loss: 1.1010 - val_accuracy: 0.5895\n",
      "Epoch 6/15\n",
      "2088/2088 [==============================] - 667s 320ms/step - loss: 1.0769 - accuracy: 0.6125 - val_loss: 1.0426 - val_accuracy: 0.6236\n",
      "Epoch 7/15\n",
      "2088/2088 [==============================] - 638s 305ms/step - loss: 1.0242 - accuracy: 0.6347 - val_loss: 0.9850 - val_accuracy: 0.6460\n",
      "Epoch 8/15\n",
      "2088/2088 [==============================] - 667s 320ms/step - loss: 0.9823 - accuracy: 0.6501 - val_loss: 0.9567 - val_accuracy: 0.6543\n",
      "Epoch 9/15\n",
      "2088/2088 [==============================] - 655s 314ms/step - loss: 0.9470 - accuracy: 0.6636 - val_loss: 0.9189 - val_accuracy: 0.6706\n",
      "Epoch 10/15\n",
      "2088/2088 [==============================] - 672s 322ms/step - loss: 0.9181 - accuracy: 0.6725 - val_loss: 0.8984 - val_accuracy: 0.6785\n",
      "Epoch 11/15\n",
      "2088/2088 [==============================] - 641s 307ms/step - loss: 0.8936 - accuracy: 0.6827 - val_loss: 0.8720 - val_accuracy: 0.6884\n",
      "Epoch 12/15\n",
      "2088/2088 [==============================] - 631s 302ms/step - loss: 0.8707 - accuracy: 0.6906 - val_loss: 0.8592 - val_accuracy: 0.6927\n",
      "Epoch 13/15\n",
      "2088/2088 [==============================] - 620s 297ms/step - loss: 0.8540 - accuracy: 0.6965 - val_loss: 0.8334 - val_accuracy: 0.7017\n",
      "Epoch 14/15\n",
      "2088/2088 [==============================] - 609s 292ms/step - loss: 0.8361 - accuracy: 0.7029 - val_loss: 0.8157 - val_accuracy: 0.7056\n",
      "Epoch 15/15\n",
      "2088/2088 [==============================] - 621s 298ms/step - loss: 0.8215 - accuracy: 0.7062 - val_loss: 0.8020 - val_accuracy: 0.7112\n"
     ]
    }
   ],
   "source": [
    "history = model.fit(X, y, epochs = 15, batch_size = 32, validation_split=0.2, verbose=1)"
   ]
  },
  {
   "cell_type": "code",
   "execution_count": 17,
   "metadata": {},
   "outputs": [
    {
     "data": {
      "text/plain": [
       "array([[233,   4,   0,   5],\n",
       "       [ 62,  76,   4, 100],\n",
       "       [ 88,  17,  19, 118],\n",
       "       [  1,   0,   0, 241]], dtype=int64)"
      ]
     },
     "execution_count": 17,
     "metadata": {},
     "output_type": "execute_result"
    }
   ],
   "source": [
    "from sklearn.metrics import confusion_matrix\n",
    "\n",
    "y_pred = np.argmax(model.predict(X_test), axis=-1)\n",
    "cm = confusion_matrix(y_test,y_pred)\n",
    "cm"
   ]
  },
  {
   "cell_type": "code",
   "execution_count": 18,
   "metadata": {},
   "outputs": [
    {
     "data": {
      "image/png": "[encoded data removed]",
      "text/plain": [
       "<Figure size 432x288 with 1 Axes>"
      ]
     },
     "metadata": {
      "needs_background": "light"
     },
     "output_type": "display_data"
    }
   ],
   "source": [
    "import matplotlib.pyplot as plt \n",
    "accuracy = history.history['accuracy']\n",
    "val_accuracy = history.history['val_accuracy']\n",
    "loss = history.history['loss']\n",
    "val_loss = history.history['val_loss']\n",
    "\n",
    "epochs = range(len(accuracy))\n",
    "\n",
    "plt.plot(epochs, accuracy, 'r', label='Training Accuracy')\n",
    "plt.plot(epochs, val_accuracy, 'b', label='Validation Accuracy')\n",
    "plt.plot(epochs, loss, 'g', label='Training Loss')\n",
    "plt.plot(epochs, val_loss, 'y', label='Validation Loss')\n",
    "\n",
    "plt.title('Training and Validation of Loss  and Accuracy')\n",
    "plt.legend()\n",
    "plt.show()"
   ]
  },
  {
   "cell_type": "code",
   "execution_count": 8,
   "metadata": {},
   "outputs": [
    {
     "name": "stdout",
     "output_type": "stream",
     "text": [
      "Model: \"sequential\"\n",
      "_________________________________________________________________\n",
      "Layer (type)                 Output Shape              Param #   \n",
      "=================================================================\n",
      "conv2d (Conv2D)              (None, 100, 100, 32)      320       \n",
      "_________________________________________________________________\n",
      "max_pooling2d (MaxPooling2D) (None, 50, 50, 32)        0         \n",
      "_________________________________________________________________\n",
      "conv2d_1 (Conv2D)            (None, 50, 50, 64)        18496     \n",
      "_________________________________________________________________\n",
      "max_pooling2d_1 (MaxPooling2 (None, 25, 25, 64)        0         \n",
      "_________________________________________________________________\n",
      "conv2d_2 (Conv2D)            (None, 25, 25, 128)       73856     \n",
      "_________________________________________________________________\n",
      "max_pooling2d_2 (MaxPooling2 (None, 6, 6, 128)         0         \n",
      "_________________________________________________________________\n",
      "flatten (Flatten)            (None, 4608)              0         \n",
      "_________________________________________________________________\n",
      "dense (Dense)                (None, 32)                147488    \n",
      "_________________________________________________________________\n",
      "dense_1 (Dense)              (None, 16)                528       \n",
      "_________________________________________________________________\n",
      "batch_normalization (BatchNo (None, 16)                64        \n",
      "_________________________________________________________________\n",
      "dense_2 (Dense)              (None, 4)                 68        \n",
      "=================================================================\n",
      "Total params: 240,820\n",
      "Trainable params: 240,788\n",
      "Non-trainable params: 32\n",
      "_________________________________________________________________\n"
     ]
    }
   ],
   "source": [
    "model = Sequential()\n",
    "model.add(Conv2D(32,3,padding=\"same\", activation=\"relu\", input_shape = X.shape[1:]))\n",
    "model.add(MaxPool2D(2,2))\n",
    "model.add(Conv2D(64, 3, padding=\"same\", activation=\"relu\"))\n",
    "model.add(MaxPool2D(2,2))\n",
    "model.add(Conv2D(128, 3, padding=\"same\", activation=\"relu\"))\n",
    "model.add(MaxPool2D(4,4))\n",
    "model.add(Flatten())\n",
    "model.add(Dense(32,activation=\"relu\"))\n",
    "model.add(Dense(16,activation=\"relu\"))\n",
    "model.add(BatchNormalization())\n",
    "model.add(Dense(4, activation=\"softmax\"))\n",
    "model.compile(loss=\"sparse_categorical_crossentropy\", optimizer=\"Adagrad\", metrics=[\"accuracy\"])\n",
    "model.summary()"
   ]
  },
  {
   "cell_type": "code",
   "execution_count": 9,
   "metadata": {},
   "outputs": [
    {
     "name": "stdout",
     "output_type": "stream",
     "text": [
      "Epoch 1/15\n",
      "2088/2088 [==============================] - 531s 254ms/step - loss: 0.8633 - accuracy: 0.6803 - val_loss: 0.8552 - val_accuracy: 0.6789\n",
      "Epoch 2/15\n",
      "2088/2088 [==============================] - 630s 302ms/step - loss: 0.6816 - accuracy: 0.7523 - val_loss: 1.0566 - val_accuracy: 0.6094\n",
      "Epoch 3/15\n",
      "2088/2088 [==============================] - 641s 307ms/step - loss: 0.6168 - accuracy: 0.7796 - val_loss: 0.7108 - val_accuracy: 0.7328\n",
      "Epoch 4/15\n",
      "2088/2088 [==============================] - 627s 301ms/step - loss: 0.5756 - accuracy: 0.7954 - val_loss: 0.9021 - val_accuracy: 0.6481\n",
      "Epoch 5/15\n",
      "2088/2088 [==============================] - 657s 315ms/step - loss: 0.5455 - accuracy: 0.8069 - val_loss: 0.5517 - val_accuracy: 0.8000\n",
      "Epoch 6/15\n",
      "2088/2088 [==============================] - 690s 330ms/step - loss: 0.5249 - accuracy: 0.8160 - val_loss: 0.6117 - val_accuracy: 0.7701\n",
      "Epoch 7/15\n",
      "2088/2088 [==============================] - 691s 331ms/step - loss: 0.5073 - accuracy: 0.8222 - val_loss: 0.5167 - val_accuracy: 0.8140\n",
      "Epoch 8/15\n",
      "2088/2088 [==============================] - 683s 327ms/step - loss: 0.4927 - accuracy: 0.8268 - val_loss: 0.8167 - val_accuracy: 0.6807\n",
      "Epoch 9/15\n",
      "2088/2088 [==============================] - 691s 331ms/step - loss: 0.4786 - accuracy: 0.8327 - val_loss: 0.4900 - val_accuracy: 0.8216\n",
      "Epoch 10/15\n",
      "2088/2088 [==============================] - 699s 335ms/step - loss: 0.4664 - accuracy: 0.8369 - val_loss: 0.4668 - val_accuracy: 0.8327\n",
      "Epoch 11/15\n",
      "2088/2088 [==============================] - 686s 329ms/step - loss: 0.4579 - accuracy: 0.8392 - val_loss: 0.4614 - val_accuracy: 0.8362\n",
      "Epoch 12/15\n",
      "2088/2088 [==============================] - 697s 334ms/step - loss: 0.4483 - accuracy: 0.8440 - val_loss: 0.4597 - val_accuracy: 0.8381\n",
      "Epoch 13/15\n",
      "2088/2088 [==============================] - 697s 334ms/step - loss: 0.4407 - accuracy: 0.8454 - val_loss: 0.5958 - val_accuracy: 0.7700\n",
      "Epoch 14/15\n",
      "2088/2088 [==============================] - 708s 339ms/step - loss: 0.4303 - accuracy: 0.8504 - val_loss: 0.4535 - val_accuracy: 0.8384\n",
      "Epoch 15/15\n",
      "2088/2088 [==============================] - 720s 345ms/step - loss: 0.4251 - accuracy: 0.8524 - val_loss: 0.4591 - val_accuracy: 0.8349\n"
     ]
    }
   ],
   "source": [
    "history = model.fit(X, y, epochs = 15, batch_size = 32, validation_split=0.2, verbose=1)"
   ]
  },
  {
   "cell_type": "code",
   "execution_count": 10,
   "metadata": {},
   "outputs": [
    {
     "data": {
      "text/plain": [
       "array([[236,   5,   1,   0],\n",
       "       [ 10, 212,   0,  20],\n",
       "       [ 68,  13, 117,  44],\n",
       "       [  0,   1,   1, 240]], dtype=int64)"
      ]
     },
     "execution_count": 10,
     "metadata": {},
     "output_type": "execute_result"
    }
   ],
   "source": [
    "from sklearn.metrics import confusion_matrix\n",
    "\n",
    "y_pred = np.argmax(model.predict(X_test), axis=-1)\n",
    "cm = confusion_matrix(y_test,y_pred)\n",
    "cm"
   ]
  },
  {
   "cell_type": "code",
   "execution_count": 11,
   "metadata": {},
   "outputs": [
    {
     "data": {
      "image/png": "[encoded data removed]",
      "text/plain": [
       "<Figure size 432x288 with 1 Axes>"
      ]
     },
     "metadata": {
      "needs_background": "light"
     },
     "output_type": "display_data"
    }
   ],
   "source": [
    "import matplotlib.pyplot as plt \n",
    "accuracy = history.history['accuracy']\n",
    "val_accuracy = history.history['val_accuracy']\n",
    "loss = history.history['loss']\n",
    "val_loss = history.history['val_loss']\n",
    "\n",
    "epochs = range(len(accuracy))\n",
    "\n",
    "plt.plot(epochs, accuracy, 'r', label='Training Accuracy')\n",
    "plt.plot(epochs, val_accuracy, 'b', label='Validation Accuracy')\n",
    "plt.plot(epochs, loss, 'g', label='Training Loss')\n",
    "plt.plot(epochs, val_loss, 'y', label='Validation Loss')\n",
    "\n",
    "plt.title('Training and Validation of Loss  and Accuracy')\n",
    "plt.legend()\n",
    "plt.show()"
   ]
  },
  {
   "cell_type": "code",
   "execution_count": 16,
   "metadata": {},
   "outputs": [
    {
     "name": "stdout",
     "output_type": "stream",
     "text": [
      "Model: \"sequential_3\"\n",
      "_________________________________________________________________\n",
      "Layer (type)                 Output Shape              Param #   \n",
      "=================================================================\n",
      "conv2d_9 (Conv2D)            (None, 100, 100, 32)      320       \n",
      "_________________________________________________________________\n",
      "max_pooling2d_9 (MaxPooling2 (None, 50, 50, 32)        0         \n",
      "_________________________________________________________________\n",
      "conv2d_10 (Conv2D)           (None, 50, 50, 64)        18496     \n",
      "_________________________________________________________________\n",
      "max_pooling2d_10 (MaxPooling (None, 25, 25, 64)        0         \n",
      "_________________________________________________________________\n",
      "conv2d_11 (Conv2D)           (None, 25, 25, 128)       73856     \n",
      "_________________________________________________________________\n",
      "max_pooling2d_11 (MaxPooling (None, 6, 6, 128)         0         \n",
      "_________________________________________________________________\n",
      "flatten_3 (Flatten)          (None, 4608)              0         \n",
      "_________________________________________________________________\n",
      "dense_9 (Dense)              (None, 32)                147488    \n",
      "_________________________________________________________________\n",
      "dense_10 (Dense)             (None, 16)                528       \n",
      "_________________________________________________________________\n",
      "batch_normalization_3 (Batch (None, 16)                64        \n",
      "_________________________________________________________________\n",
      "dense_11 (Dense)             (None, 4)                 68        \n",
      "=================================================================\n",
      "Total params: 240,820\n",
      "Trainable params: 240,788\n",
      "Non-trainable params: 32\n",
      "_________________________________________________________________\n"
     ]
    }
   ],
   "source": [
    "model = Sequential()\n",
    "model.add(Conv2D(32,3,padding=\"same\", activation=\"relu\", input_shape = X.shape[1:]))\n",
    "model.add(MaxPool2D(2,2))\n",
    "model.add(Conv2D(64, 3, padding=\"same\", activation=\"relu\"))\n",
    "model.add(MaxPool2D(2,2))\n",
    "model.add(Conv2D(128, 3, padding=\"same\", activation=\"relu\"))\n",
    "model.add(MaxPool2D(4,4))\n",
    "model.add(Flatten())\n",
    "model.add(Dense(32,activation=\"relu\"))\n",
    "model.add(Dense(16,activation=\"relu\"))\n",
    "model.add(BatchNormalization())\n",
    "model.add(Dense(4, kernel_regularizer=tf.keras.regularizers.l2(0.01),activation='softmax'))\n",
    "model.compile(optimizer = 'Adam', loss = 'squared_hinge', metrics = ['accuracy'])\n",
    "model.summary()"
   ]
  },
  {
   "cell_type": "code",
   "execution_count": 17,
   "metadata": {},
   "outputs": [
    {
     "name": "stdout",
     "output_type": "stream",
     "text": [
      "Epoch 1/15\n",
      "2088/2088 [==============================] - 690s 330ms/step - loss: 0.5730 - accuracy: 0.2467 - val_loss: 0.5679 - val_accuracy: 0.4431\n",
      "Epoch 2/15\n",
      "2088/2088 [==============================] - 688s 329ms/step - loss: 0.5675 - accuracy: 0.4460 - val_loss: 0.5679 - val_accuracy: 0.4431\n",
      "Epoch 3/15\n",
      "2088/2088 [==============================] - 718s 344ms/step - loss: 0.5675 - accuracy: 0.4463 - val_loss: 0.5679 - val_accuracy: 0.4431\n",
      "Epoch 4/15\n",
      "2088/2088 [==============================] - 711s 341ms/step - loss: 0.5675 - accuracy: 0.4463 - val_loss: 0.5679 - val_accuracy: 0.4431\n",
      "Epoch 5/15\n",
      "2088/2088 [==============================] - 728s 349ms/step - loss: 0.5675 - accuracy: 0.4463 - val_loss: 0.5679 - val_accuracy: 0.4431\n",
      "Epoch 6/15\n",
      "2088/2088 [==============================] - 730s 349ms/step - loss: 0.5675 - accuracy: 0.4463 - val_loss: 0.5679 - val_accuracy: 0.4431\n",
      "Epoch 7/15\n",
      "2088/2088 [==============================] - 749s 359ms/step - loss: 0.5675 - accuracy: 0.4463 - val_loss: 0.5679 - val_accuracy: 0.4431\n",
      "Epoch 8/15\n",
      "2088/2088 [==============================] - 759s 363ms/step - loss: 0.5675 - accuracy: 0.4463 - val_loss: 0.5679 - val_accuracy: 0.4431\n",
      "Epoch 9/15\n",
      "2088/2088 [==============================] - 740s 355ms/step - loss: 0.5675 - accuracy: 0.4463 - val_loss: 0.5679 - val_accuracy: 0.4431\n",
      "Epoch 10/15\n",
      "2088/2088 [==============================] - 689s 330ms/step - loss: 0.5675 - accuracy: 0.4463 - val_loss: 0.5679 - val_accuracy: 0.4431\n",
      "Epoch 11/15\n",
      "2088/2088 [==============================] - 732s 351ms/step - loss: 0.5675 - accuracy: 0.4463 - val_loss: 0.5679 - val_accuracy: 0.4431\n",
      "Epoch 12/15\n",
      "2088/2088 [==============================] - 782s 375ms/step - loss: 0.5676 - accuracy: 0.4463 - val_loss: 0.5679 - val_accuracy: 0.4431\n",
      "Epoch 13/15\n",
      "2088/2088 [==============================] - 756s 362ms/step - loss: 0.5675 - accuracy: 0.4463 - val_loss: 0.5679 - val_accuracy: 0.4431\n",
      "Epoch 14/15\n",
      "2088/2088 [==============================] - 700s 335ms/step - loss: 0.5676 - accuracy: 0.4463 - val_loss: 0.5679 - val_accuracy: 0.4431\n",
      "Epoch 15/15\n",
      "2088/2088 [==============================] - 647s 310ms/step - loss: 0.5675 - accuracy: 0.4463 - val_loss: 0.5679 - val_accuracy: 0.4431\n"
     ]
    }
   ],
   "source": [
    "history = model.fit(X, y, epochs = 15, batch_size = 32, validation_split=0.2, verbose=1)"
   ]
  },
  {
   "cell_type": "code",
   "execution_count": 18,
   "metadata": {},
   "outputs": [
    {
     "data": {
      "image/png": "[encoded data removed]",
      "text/plain": [
       "<Figure size 432x288 with 1 Axes>"
      ]
     },
     "metadata": {
      "needs_background": "light"
     },
     "output_type": "display_data"
    }
   ],
   "source": [
    "import matplotlib.pyplot as plt \n",
    "accuracy = history.history['accuracy']\n",
    "val_accuracy = history.history['val_accuracy']\n",
    "loss = history.history['loss']\n",
    "val_loss = history.history['val_loss']\n",
    "\n",
    "epochs = range(len(accuracy))\n",
    "\n",
    "plt.plot(epochs, accuracy, 'r', label='Training Accuracy')\n",
    "plt.plot(epochs, val_accuracy, 'b', label='Validation Accuracy')\n",
    "plt.plot(epochs, loss, 'g', label='Training Loss')\n",
    "plt.plot(epochs, val_loss, 'y', label='Validation Loss')\n",
    "\n",
    "plt.title('Training and Validation of Loss  and Accuracy')\n",
    "plt.legend()\n",
    "plt.show()"
   ]
  },
  {
   "cell_type": "code",
   "execution_count": 19,
   "metadata": {},
   "outputs": [
    {
     "data": {
      "text/plain": [
       "array([[242,   0,   0,   0],\n",
       "       [242,   0,   0,   0],\n",
       "       [242,   0,   0,   0],\n",
       "       [242,   0,   0,   0]], dtype=int64)"
      ]
     },
     "execution_count": 19,
     "metadata": {},
     "output_type": "execute_result"
    }
   ],
   "source": [
    "from sklearn.metrics import confusion_matrix\n",
    "\n",
    "y_pred = np.argmax(model.predict(X_test), axis=-1)\n",
    "cm = confusion_matrix(y_test,y_pred)\n",
    "cm"
   ]
  },
  {
   "cell_type": "code",
   "execution_count": null,
   "metadata": {},
   "outputs": [],
   "source": []
  }
 ],
 "metadata": {
  "kernelspec": {
   "display_name": "Python 3 (ipykernel)",
   "language": "python",
   "name": "python3"
  },
  "language_info": {
   "codemirror_mode": {
    "name": "ipython",
    "version": 3
   },
   "file_extension": ".py",
   "mimetype": "text/x-python",
   "name": "python",
   "nbconvert_exporter": "python",
   "pygments_lexer": "ipython3",
   "version": "3.8.11"
  }
 },
 "nbformat": 4,
 "nbformat_minor": 4
}
