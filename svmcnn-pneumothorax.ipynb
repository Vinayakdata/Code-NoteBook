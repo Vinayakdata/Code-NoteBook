{
 "cells": [
  {
   "cell_type": "code",
   "execution_count": 36,
   "id": "d1635cae",
   "metadata": {},
   "outputs": [],
   "source": [
    "from tensorflow.keras import applications\n",
    "from tensorflow.keras.preprocessing.image import ImageDataGenerator\n",
    "from tensorflow.keras import optimizers\n",
    "from tensorflow.keras.models import Sequential\n",
    "from tensorflow.keras.layers import Dropout, Flatten, Dense\n",
    "\n",
    "import numpy as np\n",
    "import matplotlib.pyplot as plt\n",
    "from tensorflow.keras import models, layers\n",
    "from tensorflow.keras.models import Model\n",
    "from tensorflow.keras.layers import BatchNormalization, Activation, Flatten\n",
    "from tensorflow.keras.optimizers import Adam\n",
    "from keras_preprocessing.image import ImageDataGenerator\n",
    "from tensorflow.keras.callbacks import ReduceLROnPlateau,ModelCheckpoint,EarlyStopping,LearningRateScheduler\n",
    "import numpy as np\n",
    "import tensorflow\n",
    "import tensorflow\n",
    "from tensorflow.keras.models import Sequential\n",
    "from tensorflow.keras.layers import Dense, Dropout, Flatten\n",
    "from tensorflow.keras.layers import Conv2D, MaxPooling2D\n",
    "from tensorflow.keras.utils import to_categorical\n",
    "from tensorflow.keras.preprocessing import image\n",
    "import numpy as np\n",
    "import pandas as pd\n",
    "import matplotlib.pyplot as plt\n",
    "from sklearn.model_selection import train_test_split\n",
    "from tqdm import tqdm\n",
    "%matplotlib inline\n",
    "from tensorflow.keras.models import Sequential\n",
    "from tensorflow.keras.layers import Dense, Flatten, Conv2D, Dropout, BatchNormalization\n",
    "from tensorflow.keras.regularizers import l2,l1"
   ]
  },
  {
   "cell_type": "code",
   "execution_count": 20,
   "id": "f2045161",
   "metadata": {},
   "outputs": [],
   "source": [
    "train_dir = r\"C:/Users/HP/siim/testandtrain/train\"\n",
    "test_dir = r'C:/Users/HP/siim/testandtrain/test'"
   ]
  },
  {
   "cell_type": "code",
   "execution_count": 21,
   "id": "870e13bc",
   "metadata": {},
   "outputs": [
    {
     "name": "stdout",
     "output_type": "stream",
     "text": [
      "Found 16047 images belonging to 2 classes.\n",
      "Found 1876 images belonging to 2 classes.\n"
     ]
    }
   ],
   "source": [
    "train_datagen = ImageDataGenerator(rescale=(1/255.),shear_range = 0.2,zoom_range=0.2,\n",
    "                                   horizontal_flip=True)\n",
    "training_set = train_datagen.flow_from_directory(directory = train_dir,target_size=(128,128),\n",
    "                                                batch_size=32,\n",
    "                                                class_mode = \"binary\")\n",
    "test_datagen = ImageDataGenerator(rescale=(1/255.))\n",
    "test_set = test_datagen.flow_from_directory(directory = test_dir,target_size=(128,128),\n",
    "                                                batch_size=32,\n",
    "                                                class_mode = \"binary\")"
   ]
  },
  {
   "cell_type": "code",
   "execution_count": 22,
   "id": "f99b20ee",
   "metadata": {},
   "outputs": [],
   "source": [
    "model1 = Sequential()\n",
    "model1.add(Conv2D(128, kernel_size=(3, 3),activation='relu',input_shape=(128, 128, 3)))\n",
    "model1.add(MaxPooling2D(pool_size=(2, 2)))\n",
    "model1.add(Conv2D(64, (3, 3), activation='relu'))\n",
    "model1.add(MaxPooling2D(pool_size=(2, 2)))\n",
    "model1.add(Conv2D(32, (3, 3), activation='relu'))\n",
    "model1.add(MaxPooling2D(pool_size=(2, 2)))\n",
    "model1.add(Flatten())\n",
    "model1.add(Dense(256, activation='relu'))\n",
    "model1.add(Dropout(0.25))\n",
    "model1.add(Dense(128, activation='relu'))\n",
    "model1.add(Dense(32, activation='relu'))\n",
    "model1.add(Dense(1,kernel_regularizer=l2(0.01),activation = \"linear\"))\n",
    "model1.compile(optimizer = \"adam\", loss = \"hinge\", metrics = [\"accuracy\"])"
   ]
  },
  {
   "cell_type": "code",
   "execution_count": 23,
   "id": "cc7bccb5",
   "metadata": {},
   "outputs": [
    {
     "name": "stdout",
     "output_type": "stream",
     "text": [
      "Model: \"sequential_3\"\n",
      "_________________________________________________________________\n",
      "Layer (type)                 Output Shape              Param #   \n",
      "=================================================================\n",
      "conv2d_9 (Conv2D)            (None, 126, 126, 128)     3584      \n",
      "_________________________________________________________________\n",
      "max_pooling2d_9 (MaxPooling2 (None, 63, 63, 128)       0         \n",
      "_________________________________________________________________\n",
      "conv2d_10 (Conv2D)           (None, 61, 61, 64)        73792     \n",
      "_________________________________________________________________\n",
      "max_pooling2d_10 (MaxPooling (None, 30, 30, 64)        0         \n",
      "_________________________________________________________________\n",
      "conv2d_11 (Conv2D)           (None, 28, 28, 32)        18464     \n",
      "_________________________________________________________________\n",
      "max_pooling2d_11 (MaxPooling (None, 14, 14, 32)        0         \n",
      "_________________________________________________________________\n",
      "flatten_3 (Flatten)          (None, 6272)              0         \n",
      "_________________________________________________________________\n",
      "dense_12 (Dense)             (None, 256)               1605888   \n",
      "_________________________________________________________________\n",
      "dropout_3 (Dropout)          (None, 256)               0         \n",
      "_________________________________________________________________\n",
      "dense_13 (Dense)             (None, 128)               32896     \n",
      "_________________________________________________________________\n",
      "dense_14 (Dense)             (None, 32)                4128      \n",
      "_________________________________________________________________\n",
      "dense_15 (Dense)             (None, 1)                 33        \n",
      "=================================================================\n",
      "Total params: 1,738,785\n",
      "Trainable params: 1,738,785\n",
      "Non-trainable params: 0\n",
      "_________________________________________________________________\n"
     ]
    }
   ],
   "source": [
    "model1.summary()"
   ]
  },
  {
   "cell_type": "code",
   "execution_count": 24,
   "id": "51e96853",
   "metadata": {},
   "outputs": [
    {
     "name": "stdout",
     "output_type": "stream",
     "text": [
      "Epoch 1/15\n",
      "502/502 [==============================] - 565s 1s/step - loss: 0.2911 - accuracy: 0.8797 - val_loss: 0.1425 - val_accuracy: 0.9595\n",
      "Epoch 2/15\n",
      "502/502 [==============================] - 643s 1s/step - loss: 0.2114 - accuracy: 0.9093 - val_loss: 0.0540 - val_accuracy: 0.9867\n",
      "Epoch 3/15\n",
      "502/502 [==============================] - 642s 1s/step - loss: 0.1831 - accuracy: 0.9189 - val_loss: 0.0825 - val_accuracy: 0.9760\n",
      "Epoch 4/15\n",
      "502/502 [==============================] - 642s 1s/step - loss: 0.1692 - accuracy: 0.9238 - val_loss: 0.0380 - val_accuracy: 0.9931\n",
      "Epoch 5/15\n",
      "502/502 [==============================] - 641s 1s/step - loss: 0.1567 - accuracy: 0.9288 - val_loss: 0.0378 - val_accuracy: 0.9888\n",
      "Epoch 6/15\n",
      "502/502 [==============================] - 651s 1s/step - loss: 0.1512 - accuracy: 0.9315 - val_loss: 0.0730 - val_accuracy: 0.9776\n",
      "Epoch 7/15\n",
      "502/502 [==============================] - 678s 1s/step - loss: 0.1445 - accuracy: 0.9340 - val_loss: 0.0706 - val_accuracy: 0.9760\n",
      "Epoch 8/15\n",
      "502/502 [==============================] - 673s 1s/step - loss: 0.1402 - accuracy: 0.9351 - val_loss: 0.0584 - val_accuracy: 0.9787\n",
      "Epoch 9/15\n",
      "502/502 [==============================] - 734s 1s/step - loss: 0.1430 - accuracy: 0.9342 - val_loss: 0.0592 - val_accuracy: 0.9776\n",
      "Epoch 10/15\n",
      "502/502 [==============================] - 726s 1s/step - loss: 0.1349 - accuracy: 0.9370 - val_loss: 0.0268 - val_accuracy: 0.9909\n",
      "Epoch 11/15\n",
      "502/502 [==============================] - 718s 1s/step - loss: 0.1350 - accuracy: 0.9368 - val_loss: 0.0436 - val_accuracy: 0.9851\n",
      "Epoch 12/15\n",
      "502/502 [==============================] - 692s 1s/step - loss: 0.1231 - accuracy: 0.9417 - val_loss: 0.3301 - val_accuracy: 0.8657\n",
      "Epoch 13/15\n",
      "502/502 [==============================] - 656s 1s/step - loss: 0.1237 - accuracy: 0.9416 - val_loss: 0.0330 - val_accuracy: 0.9883\n",
      "Epoch 14/15\n",
      "502/502 [==============================] - 734s 1s/step - loss: 0.1172 - accuracy: 0.9460 - val_loss: 0.0506 - val_accuracy: 0.9797\n",
      "Epoch 15/15\n",
      "502/502 [==============================] - 705s 1s/step - loss: 0.1193 - accuracy: 0.9434 - val_loss: 0.0305 - val_accuracy: 0.9893\n"
     ]
    }
   ],
   "source": [
    "history = model1.fit(x = training_set, validation_data = test_set, epochs=15)"
   ]
  },
  {
   "cell_type": "code",
   "execution_count": 25,
   "id": "ba0b3a15",
   "metadata": {},
   "outputs": [
    {
     "data": {
      "image/png": "[encoded data removed]",
      "text/plain": [
       "<Figure size 432x288 with 1 Axes>"
      ]
     },
     "metadata": {
      "needs_background": "light"
     },
     "output_type": "display_data"
    }
   ],
   "source": [
    "accuracy = history.history['accuracy']\n",
    "val_accuracy = history.history['val_accuracy']\n",
    "loss = history.history['loss']\n",
    "val_loss = history.history['val_loss']\n",
    "\n",
    "epochs = range(len(accuracy))\n",
    "\n",
    "plt.plot(epochs, accuracy, 'r', label='Training Accuracy')\n",
    "plt.plot(epochs, val_accuracy, 'b', label='Validation Accuracy')\n",
    "plt.plot(epochs, loss, 'g', label='Training Loss')\n",
    "plt.plot(epochs, val_loss, 'y', label='Validation Loss')\n",
    "\n",
    "plt.title('Training and Validation of Loss  and Accuracy')\n",
    "plt.legend()\n",
    "plt.show()"
   ]
  },
  {
   "cell_type": "code",
   "execution_count": 26,
   "id": "1b366ad4",
   "metadata": {},
   "outputs": [],
   "source": [
    "model1.save(\"pneumosvm-1.h5\")"
   ]
  },
  {
   "cell_type": "code",
   "execution_count": 27,
   "id": "5f241421",
   "metadata": {},
   "outputs": [
    {
     "name": "stdout",
     "output_type": "stream",
     "text": [
      "Total number of test examples:  (1876, 128, 128, 3)\n",
      "Total number of labels: (1876, 2)\n",
      "59/59 [==============================] - 17s 293ms/step - loss: 1.0982 - accuracy: 0.5000\n",
      "Loss on test set:  1.0981889963150024\n",
      "Accuracy on test set:  0.5\n",
      "(1876,)\n",
      "(1876,)\n"
     ]
    },
    {
     "data": {
      "text/plain": [
       "array([[1876]], dtype=int64)"
      ]
     },
     "execution_count": 27,
     "metadata": {},
     "output_type": "execute_result"
    }
   ],
   "source": [
    "import glob\n",
    "normal_cases_dir = r'C:/Users/HP/siim/testandtrain/val/nonpneumothorax'\n",
    "idc_cases_dir = r'C:/Users/HP/siim/testandtrain/val/aug-pneumo-test/yes_path'\n",
    "\n",
    "normal_cases = glob.glob(normal_cases_dir+'/*.*') #change to .png or .jpg if images are in that format\n",
    "idc_cases = glob.glob(idc_cases_dir+'/*.*')\n",
    "'''normal_cases1 = glob.glob(normal_cases_dir+'/*.JPG')\n",
    "idc_cases1 = glob.glob(idc_cases_dir+'/*.JPG')\n",
    "normal_cases2 = glob.glob(normal_cases_dir+'/*.jpeg')\n",
    "idc_cases2 = glob.glob(idc_cases_dir+'/*.jpeg')\n",
    "\n",
    "\n",
    "normal_cases.extend(normal_cases1)\n",
    "idc_cases.extend(idc_cases1)\n",
    "\n",
    "normal_cases.extend(normal_cases2)\n",
    "idc_cases.extend(idc_cases2)'''\n",
    "\n",
    "testing_data = []\n",
    "testing_labels = []\n",
    "import cv2\n",
    "\n",
    "for img in normal_cases:\n",
    "    img = cv2.imread(str(img))\n",
    "    img = cv2.resize(img, (128,128)) #HERE, CHANGE (50,50) TO WHATEVER IMAGE INPUT SIZE YOU HAVE TAKEN\n",
    "    if img.shape[2] ==1:\n",
    "        img = np.dstack([img, img, img])\n",
    "    else:\n",
    "        img = cv2.cvtColor(img, cv2.COLOR_BGR2RGB)\n",
    "    img = img.astype(np.float32)/255.\n",
    "    label = tensorflow.keras.utils.to_categorical(0, num_classes=2)\n",
    "    testing_data.append(img)\n",
    "    testing_labels.append(label)\n",
    "                      \n",
    "for img in idc_cases:\n",
    "    img = cv2.imread(str(img))\n",
    "    img = cv2.resize(img, (128,128)) #CHANGE HERE AGAIN\n",
    "    if img.shape[2] ==1:\n",
    "        img = np.dstack([img, img, img])\n",
    "    else:\n",
    "        img = cv2.cvtColor(img, cv2.COLOR_BGR2RGB)\n",
    "    img = img.astype(np.float32)/255.\n",
    "    label = tensorflow.keras.utils.to_categorical(1, num_classes=2)\n",
    "    testing_data.append(img)\n",
    "    testing_labels.append(label)\n",
    "    \n",
    "testing_data = np.array(testing_data)\n",
    "testing_labels = np.array(testing_labels)\n",
    "\n",
    "print(\"Total number of test examples: \", testing_data.shape)\n",
    "print(\"Total number of labels:\", testing_labels.shape)\n",
    "\n",
    "test_loss, test_score = model1.evaluate(testing_data, testing_labels, batch_size=32)\n",
    "print(\"Loss on test set: \", test_loss)\n",
    "print(\"Accuracy on test set: \", test_score)\n",
    "\n",
    "\n",
    "preds = model1.predict(testing_data, batch_size = 32)\n",
    "preds = np.argmax(preds, axis=-1)\n",
    "\n",
    "orig_test_labels = np.argmax(testing_labels, axis=-1)\n",
    "print(orig_test_labels.shape)\n",
    "print(preds.shape)\n",
    "\n",
    "\n",
    "from sklearn.metrics import confusion_matrix\n",
    "cm = confusion_matrix(orig_test_labels, preds)\n",
    "cm"
   ]
  },
  {
   "cell_type": "code",
   "execution_count": 28,
   "id": "074bd3e9",
   "metadata": {},
   "outputs": [],
   "source": [
    "opt = tensorflow.keras.optimizers.Adam(learning_rate=0.001,beta_1=0.9,beta_2=0.999,epsilon=1e-07,amsgrad=False,name=\"Adam\")\n",
    "\n",
    "model_4 = Sequential()\n",
    "model_4.add(Conv2D(256, kernel_size=(3, 3),activation='relu',input_shape=(128, 128, 3)))\n",
    "model_4.add(MaxPooling2D(pool_size=(2, 2)))\n",
    "model_4.add(Conv2D(128, (3, 3), activation='relu'))\n",
    "model_4.add(MaxPooling2D(pool_size=(2, 2)))\n",
    "model_4.add(Conv2D(64, (3, 3), activation='relu'))\n",
    "model_4.add(MaxPooling2D(pool_size=(2, 2)))\n",
    "model_4.add(Conv2D(32, (3, 3), activation='relu'))\n",
    "model_4.add(MaxPooling2D(pool_size=(2, 2)))\n",
    "model_4.add(Flatten())\n",
    "model_4.add(Dense(1024, activation='relu'))\n",
    "model_4.add(Dense(512, activation='relu'))\n",
    "model_4.add(Dense(128, activation='relu'))\n",
    "model_4.add(Dense(64, activation='relu'))\n",
    "model_4.add(Dense(32, activation='relu'))\n",
    "model_4.add(Dense(1,kernel_regularizer=l2(0.01),activation = \"linear\"))\n",
    "model_4.compile(optimizer = \"adam\", loss = \"hinge\", metrics = [\"accuracy\"])"
   ]
  },
  {
   "cell_type": "code",
   "execution_count": 29,
   "id": "8ad4bcc4",
   "metadata": {},
   "outputs": [
    {
     "name": "stdout",
     "output_type": "stream",
     "text": [
      "Epoch 1/15\n",
      "502/502 [==============================] - 1580s 3s/step - loss: 0.3330 - accuracy: 0.8551 - val_loss: 0.0694 - val_accuracy: 0.9797\n",
      "Epoch 2/15\n",
      "502/502 [==============================] - 1500s 3s/step - loss: 0.2304 - accuracy: 0.9005 - val_loss: 0.1166 - val_accuracy: 0.9515\n",
      "Epoch 3/15\n",
      "502/502 [==============================] - 1506s 3s/step - loss: 0.2087 - accuracy: 0.9060 - val_loss: 0.1373 - val_accuracy: 0.9456\n",
      "Epoch 4/15\n",
      "502/502 [==============================] - 1389s 3s/step - loss: 0.2094 - accuracy: 0.9052 - val_loss: 0.1901 - val_accuracy: 0.9104\n",
      "Epoch 5/15\n",
      "502/502 [==============================] - 1407s 3s/step - loss: 0.2040 - accuracy: 0.9050 - val_loss: 0.0582 - val_accuracy: 0.9749\n",
      "Epoch 6/15\n",
      "502/502 [==============================] - 1447s 3s/step - loss: 0.1897 - accuracy: 0.9118 - val_loss: 0.1316 - val_accuracy: 0.9510\n",
      "Epoch 7/15\n",
      "502/502 [==============================] - 1479s 3s/step - loss: 0.1858 - accuracy: 0.9133 - val_loss: 0.1339 - val_accuracy: 0.9483\n",
      "Epoch 8/15\n",
      "502/502 [==============================] - 1508s 3s/step - loss: 0.1732 - accuracy: 0.9176 - val_loss: 0.0866 - val_accuracy: 0.9622\n",
      "Epoch 9/15\n",
      "502/502 [==============================] - 2403s 5s/step - loss: 0.1824 - accuracy: 0.9136 - val_loss: 0.1271 - val_accuracy: 0.9366\n",
      "Epoch 10/15\n",
      "502/502 [==============================] - 1950s 4s/step - loss: 0.1894 - accuracy: 0.9098 - val_loss: 0.0965 - val_accuracy: 0.9568\n",
      "Epoch 11/15\n",
      "502/502 [==============================] - 1334s 3s/step - loss: 0.1848 - accuracy: 0.9113 - val_loss: 0.1207 - val_accuracy: 0.9456\n",
      "Epoch 12/15\n",
      "502/502 [==============================] - 1531s 3s/step - loss: 0.1761 - accuracy: 0.9157 - val_loss: 0.2120 - val_accuracy: 0.9014\n",
      "Epoch 13/15\n",
      "502/502 [==============================] - 1549s 3s/step - loss: 0.1737 - accuracy: 0.9156 - val_loss: 0.1601 - val_accuracy: 0.9280\n",
      "Epoch 14/15\n",
      "502/502 [==============================] - 1524s 3s/step - loss: 0.1640 - accuracy: 0.9201 - val_loss: 0.0631 - val_accuracy: 0.9760\n",
      "Epoch 15/15\n",
      "502/502 [==============================] - 1272s 3s/step - loss: 0.1732 - accuracy: 0.9173 - val_loss: 0.0728 - val_accuracy: 0.9712\n"
     ]
    }
   ],
   "source": [
    "history =model_4.fit(x = training_set, validation_data = test_set, epochs=15)"
   ]
  },
  {
   "cell_type": "code",
   "execution_count": 30,
   "id": "bccf7755",
   "metadata": {},
   "outputs": [],
   "source": [
    "model_4.save(\"pneumosvm-2.h5\")"
   ]
  },
  {
   "cell_type": "code",
   "execution_count": 31,
   "id": "a1dd8fea",
   "metadata": {},
   "outputs": [
    {
     "data": {
      "image/png": "[encoded data removed]",
      "text/plain": [
       "<Figure size 432x288 with 1 Axes>"
      ]
     },
     "metadata": {
      "needs_background": "light"
     },
     "output_type": "display_data"
    }
   ],
   "source": [
    "accuracy = history.history['accuracy']\n",
    "val_accuracy = history.history['val_accuracy']\n",
    "loss = history.history['loss']\n",
    "val_loss = history.history['val_loss']\n",
    "\n",
    "epochs = range(len(accuracy))\n",
    "\n",
    "plt.plot(epochs, accuracy, 'r', label='Training Accuracy')\n",
    "plt.plot(epochs, val_accuracy, 'b', label='Validation Accuracy')\n",
    "plt.plot(epochs, loss, 'g', label='Training Loss')\n",
    "plt.plot(epochs, val_loss, 'y', label='Validation Loss')\n",
    "\n",
    "plt.title('Training and Validation of Loss  and Accuracy')\n",
    "plt.legend()\n",
    "plt.show()"
   ]
  },
  {
   "cell_type": "code",
   "execution_count": 34,
   "id": "09901ba7",
   "metadata": {},
   "outputs": [
    {
     "name": "stdout",
     "output_type": "stream",
     "text": [
      "Total number of test examples:  (1876, 128, 128, 3)\n",
      "Total number of labels: (1876, 2)\n",
      "59/59 [==============================] - 36s 611ms/step - loss: 1.0221 - accuracy: 0.5000\n",
      "Loss on test set:  1.0221173763275146\n",
      "Accuracy on test set:  0.5\n",
      "(1876,)\n",
      "(1876,)\n"
     ]
    },
    {
     "data": {
      "text/plain": [
       "array([[1876]], dtype=int64)"
      ]
     },
     "execution_count": 34,
     "metadata": {},
     "output_type": "execute_result"
    }
   ],
   "source": [
    "import glob\n",
    "normal_cases_dir = r'C:/Users/HP/siim/testandtrain/val/nonpneumothorax'\n",
    "idc_cases_dir = r'C:/Users/HP/siim/testandtrain/val/aug-pneumo-test/yes_path'\n",
    "\n",
    "normal_cases = glob.glob(normal_cases_dir+'/*.*') #change to .png or .jpg if images are in that format\n",
    "idc_cases = glob.glob(idc_cases_dir+'/*.*')\n",
    "'''normal_cases1 = glob.glob(normal_cases_dir+'/*.JPG')\n",
    "idc_cases1 = glob.glob(idc_cases_dir+'/*.JPG')\n",
    "normal_cases2 = glob.glob(normal_cases_dir+'/*.jpeg')\n",
    "idc_cases2 = glob.glob(idc_cases_dir+'/*.jpeg')\n",
    "\n",
    "\n",
    "normal_cases.extend(normal_cases1)\n",
    "idc_cases.extend(idc_cases1)\n",
    "\n",
    "normal_cases.extend(normal_cases2)\n",
    "idc_cases.extend(idc_cases2)'''\n",
    "\n",
    "testing_data = []\n",
    "testing_labels = []\n",
    "import cv2\n",
    "\n",
    "for img in normal_cases:\n",
    "    img = cv2.imread(str(img))\n",
    "    img = cv2.resize(img, (128,128)) #HERE, CHANGE (50,50) TO WHATEVER IMAGE INPUT SIZE YOU HAVE TAKEN\n",
    "    if img.shape[2] ==1:\n",
    "        img = np.dstack([img, img, img])\n",
    "    else:\n",
    "        img = cv2.cvtColor(img, cv2.COLOR_BGR2RGB)\n",
    "    img = img.astype(np.float32)/255.\n",
    "    label = tensorflow.keras.utils.to_categorical(0, num_classes=2)\n",
    "    testing_data.append(img)\n",
    "    testing_labels.append(label)\n",
    "                      \n",
    "for img in idc_cases:\n",
    "    img = cv2.imread(str(img))\n",
    "    img = cv2.resize(img, (128,128)) #CHANGE HERE AGAIN\n",
    "    if img.shape[2] ==1:\n",
    "        img = np.dstack([img, img, img])\n",
    "    else:\n",
    "        img = cv2.cvtColor(img, cv2.COLOR_BGR2RGB)\n",
    "    img = img.astype(np.float32)/255.\n",
    "    label = tensorflow.keras.utils.to_categorical(1, num_classes=2)\n",
    "    testing_data.append(img)\n",
    "    testing_labels.append(label)\n",
    "    \n",
    "testing_data = np.array(testing_data)\n",
    "testing_labels = np.array(testing_labels)\n",
    "\n",
    "print(\"Total number of test examples: \", testing_data.shape)\n",
    "print(\"Total number of labels:\", testing_labels.shape)\n",
    "\n",
    "test_loss, test_score = model_4.evaluate(testing_data, testing_labels, batch_size=32)\n",
    "print(\"Loss on test set: \", test_loss)\n",
    "print(\"Accuracy on test set: \", test_score)\n",
    "\n",
    "\n",
    "preds = model_4.predict(testing_data, batch_size = 32)\n",
    "preds = np.argmax(preds, axis=-1)\n",
    "\n",
    "orig_test_labels = np.argmax(testing_labels, axis=-1)\n",
    "print(orig_test_labels.shape)\n",
    "print(preds.shape)\n",
    "\n",
    "\n",
    "from sklearn.metrics import confusion_matrix\n",
    "cm = confusion_matrix(orig_test_labels, preds)\n",
    "cm"
   ]
  },
  {
   "cell_type": "code",
   "execution_count": 45,
   "id": "16725884",
   "metadata": {},
   "outputs": [
    {
     "name": "stdout",
     "output_type": "stream",
     "text": [
      "Model: \"sequential_14\"\n",
      "_________________________________________________________________\n",
      "Layer (type)                 Output Shape              Param #   \n",
      "=================================================================\n",
      "conv2d_59 (Conv2D)           (None, 126, 126, 16)      448       \n",
      "_________________________________________________________________\n",
      "max_pooling2d_57 (MaxPooling (None, 63, 63, 16)        0         \n",
      "_________________________________________________________________\n",
      "conv2d_60 (Conv2D)           (None, 61, 61, 32)        4640      \n",
      "_________________________________________________________________\n",
      "max_pooling2d_58 (MaxPooling (None, 30, 30, 32)        0         \n",
      "_________________________________________________________________\n",
      "conv2d_61 (Conv2D)           (None, 30, 30, 32)        9248      \n",
      "_________________________________________________________________\n",
      "max_pooling2d_59 (MaxPooling (None, 15, 15, 32)        0         \n",
      "_________________________________________________________________\n",
      "conv2d_62 (Conv2D)           (None, 15, 15, 64)        18496     \n",
      "_________________________________________________________________\n",
      "max_pooling2d_60 (MaxPooling (None, 7, 7, 64)          0         \n",
      "_________________________________________________________________\n",
      "conv2d_63 (Conv2D)           (None, 5, 5, 128)         73856     \n",
      "_________________________________________________________________\n",
      "max_pooling2d_61 (MaxPooling (None, 2, 2, 128)         0         \n",
      "_________________________________________________________________\n",
      "flatten_5 (Flatten)          (None, 512)               0         \n",
      "_________________________________________________________________\n",
      "dense_22 (Dense)             (None, 1024)              525312    \n",
      "_________________________________________________________________\n",
      "dense_23 (Dense)             (None, 512)               524800    \n",
      "_________________________________________________________________\n",
      "dense_24 (Dense)             (None, 256)               131328    \n",
      "_________________________________________________________________\n",
      "dense_25 (Dense)             (None, 128)               32896     \n",
      "_________________________________________________________________\n",
      "dense_26 (Dense)             (None, 64)                8256      \n",
      "_________________________________________________________________\n",
      "dense_27 (Dense)             (None, 32)                2080      \n",
      "_________________________________________________________________\n",
      "dense_28 (Dense)             (None, 16)                528       \n",
      "_________________________________________________________________\n",
      "dense_29 (Dense)             (None, 16)                272       \n",
      "_________________________________________________________________\n",
      "batch_normalization (BatchNo (None, 16)                64        \n",
      "_________________________________________________________________\n",
      "dropout_4 (Dropout)          (None, 16)                0         \n",
      "_________________________________________________________________\n",
      "dense_30 (Dense)             (None, 1)                 17        \n",
      "=================================================================\n",
      "Total params: 1,332,241\n",
      "Trainable params: 1,332,209\n",
      "Non-trainable params: 32\n",
      "_________________________________________________________________\n"
     ]
    }
   ],
   "source": [
    "model =Sequential()\n",
    "model.add(layers.Conv2D(16, (3, 3), activation='relu',input_shape=(128,128,3),kernel_regularizer=l1(0.0001), bias_regularizer=l2(0.01))) #firstlayer\n",
    "model.add(layers.MaxPooling2D((2,2)))\n",
    "model.add(layers.Conv2D(32, (3, 3), activation='relu')) #firstlayer\n",
    "model.add(layers.MaxPooling2D((2,2)))\n",
    "model.add(layers.Conv2D(32, (3, 3),padding = 'same', activation='relu')) #firstlayer\n",
    "model.add(layers.MaxPooling2D((2,2)))\n",
    "model.add(layers.Conv2D(64, (3, 3), padding = 'same',activation='relu')) #firstlayer\n",
    "model.add(layers.MaxPooling2D((2,2)))\n",
    "model.add(layers.Conv2D(128, (3, 3), activation='relu')) #secondlayer\n",
    "model.add(layers.MaxPooling2D((2,2)))\n",
    "model.add(layers.Flatten())\n",
    "\n",
    "model.add(Dense(units = 1024, activation = 'relu'))\n",
    "model.add(Dense(units = 512,  activation = 'relu'))\n",
    "model.add(Dense(units = 256,  activation = 'relu'))\n",
    "model.add(Dense(units = 128,  activation = 'relu'))\n",
    "model.add(Dense(units = 64,  activation = 'relu'))\n",
    "model.add(Dense(units = 32,  activation = 'relu'))\n",
    "model.add(Dense(units = 16,  activation = 'relu'))\n",
    "model.add(Dense(units = 16,  activation = 'relu'))\n",
    "model.add(BatchNormalization())\n",
    "model.add(Dropout(0.5))\n",
    "model.add(Dense(1,kernel_regularizer=l2(0.01),activation = \"linear\"))\n",
    "model.compile(optimizer = \"adam\", loss = \"hinge\", metrics = [\"accuracy\"])\n",
    "model.summary()"
   ]
  },
  {
   "cell_type": "code",
   "execution_count": 46,
   "id": "8b2491ec",
   "metadata": {},
   "outputs": [
    {
     "name": "stdout",
     "output_type": "stream",
     "text": [
      "Epoch 1/15\n",
      "502/502 [==============================] - 226s 450ms/step - loss: 0.3716 - accuracy: 0.8496 - val_loss: 3.5489 - val_accuracy: 0.0490\n",
      "Epoch 2/15\n",
      "502/502 [==============================] - 229s 456ms/step - loss: 0.2819 - accuracy: 0.8899 - val_loss: 2.5480 - val_accuracy: 0.1509\n",
      "Epoch 3/15\n",
      "502/502 [==============================] - 224s 447ms/step - loss: 0.2662 - accuracy: 0.8958 - val_loss: 0.0952 - val_accuracy: 0.9813\n",
      "Epoch 4/15\n",
      "502/502 [==============================] - 223s 444ms/step - loss: 0.2505 - accuracy: 0.9032 - val_loss: 0.2143 - val_accuracy: 0.9568\n",
      "Epoch 5/15\n",
      "502/502 [==============================] - 225s 447ms/step - loss: 0.2480 - accuracy: 0.9038 - val_loss: 0.0874 - val_accuracy: 0.9819\n",
      "Epoch 6/15\n",
      "502/502 [==============================] - 222s 443ms/step - loss: 0.2310 - accuracy: 0.9103 - val_loss: 0.0888 - val_accuracy: 0.9813\n",
      "Epoch 7/15\n",
      "502/502 [==============================] - 223s 445ms/step - loss: 0.2203 - accuracy: 0.9162 - val_loss: 0.0281 - val_accuracy: 0.9952\n",
      "Epoch 8/15\n",
      "502/502 [==============================] - 223s 445ms/step - loss: 0.2123 - accuracy: 0.9179 - val_loss: 1.3978 - val_accuracy: 0.6173\n",
      "Epoch 9/15\n",
      "502/502 [==============================] - 222s 442ms/step - loss: 0.2086 - accuracy: 0.9177 - val_loss: 0.0721 - val_accuracy: 0.9851\n",
      "Epoch 10/15\n",
      "502/502 [==============================] - 223s 445ms/step - loss: 0.1968 - accuracy: 0.9227 - val_loss: 0.3785 - val_accuracy: 0.9158\n",
      "Epoch 11/15\n",
      "502/502 [==============================] - 222s 442ms/step - loss: 0.1940 - accuracy: 0.9216 - val_loss: 0.1545 - val_accuracy: 0.9686\n",
      "Epoch 12/15\n",
      "502/502 [==============================] - 230s 458ms/step - loss: 0.1916 - accuracy: 0.9239 - val_loss: 0.0534 - val_accuracy: 0.9899\n",
      "Epoch 13/15\n",
      "502/502 [==============================] - 224s 446ms/step - loss: 0.1863 - accuracy: 0.9258 - val_loss: 0.0359 - val_accuracy: 0.9931\n",
      "Epoch 14/15\n",
      "502/502 [==============================] - 224s 446ms/step - loss: 0.1835 - accuracy: 0.9288 - val_loss: 0.0280 - val_accuracy: 0.9952\n",
      "Epoch 15/15\n",
      "502/502 [==============================] - 223s 443ms/step - loss: 0.1773 - accuracy: 0.9321 - val_loss: 0.0234 - val_accuracy: 0.9963\n"
     ]
    }
   ],
   "source": [
    "history =model.fit(x = training_set, validation_data = test_set, epochs=15)"
   ]
  },
  {
   "cell_type": "code",
   "execution_count": 47,
   "id": "7a6ef547",
   "metadata": {},
   "outputs": [],
   "source": [
    "model.save(\"pneumosvm-3.h5\")"
   ]
  },
  {
   "cell_type": "code",
   "execution_count": 60,
   "id": "61d29b11",
   "metadata": {},
   "outputs": [
    {
     "name": "stdout",
     "output_type": "stream",
     "text": [
      "Total number of test examples:  (1876, 128, 128, 3)\n",
      "Total number of labels: (1876, 2)\n",
      "59/59 [==============================] - 3s 44ms/step - loss: 2.1427 - accuracy: 0.5000\n",
      "Loss on test set:  2.1427392959594727\n",
      "Accuracy on test set:  0.5\n",
      "(1876,)\n",
      "(1876,)\n"
     ]
    },
    {
     "data": {
      "text/plain": [
       "array([[1876]], dtype=int64)"
      ]
     },
     "execution_count": 60,
     "metadata": {},
     "output_type": "execute_result"
    }
   ],
   "source": [
    "import glob\n",
    "normal_cases_dir = r'C:/Users/HP/siim/testandtrain/val/nonpneumothorax'\n",
    "idc_cases_dir = r'C:/Users/HP/siim/testandtrain/val/aug-pneumo-test/yes_path'\n",
    "\n",
    "normal_cases = glob.glob(normal_cases_dir+'/*.*') #change to .png or .jpg if images are in that format\n",
    "idc_cases = glob.glob(idc_cases_dir+'/*.*')\n",
    "'''normal_cases1 = glob.glob(normal_cases_dir+'/*.JPG')\n",
    "idc_cases1 = glob.glob(idc_cases_dir+'/*.JPG')\n",
    "normal_cases2 = glob.glob(normal_cases_dir+'/*.jpeg')\n",
    "idc_cases2 = glob.glob(idc_cases_dir+'/*.jpeg')\n",
    "\n",
    "\n",
    "normal_cases.extend(normal_cases1)\n",
    "idc_cases.extend(idc_cases1)\n",
    "\n",
    "normal_cases.extend(normal_cases2)\n",
    "idc_cases.extend(idc_cases2)'''\n",
    "\n",
    "testing_data = []\n",
    "testing_labels = []\n",
    "import cv2\n",
    "\n",
    "for img in normal_cases:\n",
    "    img = cv2.imread(str(img))\n",
    "    img = cv2.resize(img, (128,128)) #HERE, CHANGE (50,50) TO WHATEVER IMAGE INPUT SIZE YOU HAVE TAKEN\n",
    "    if img.shape[2] ==1:\n",
    "        img = np.dstack([img, img, img])\n",
    "    else:\n",
    "        img = cv2.cvtColor(img, cv2.COLOR_BGR2RGB)\n",
    "    img = img.astype(np.float32)/255.\n",
    "    label = tensorflow.keras.utils.to_categorical(0, num_classes=2)\n",
    "    testing_data.append(img)\n",
    "    testing_labels.append(label)\n",
    "                      \n",
    "for img in idc_cases:\n",
    "    img = cv2.imread(str(img))\n",
    "    img = cv2.resize(img, (128,128)) #CHANGE HERE AGAIN\n",
    "    if img.shape[2] ==1:\n",
    "        img = np.dstack([img, img, img])\n",
    "    else:\n",
    "        img = cv2.cvtColor(img, cv2.COLOR_BGR2RGB)\n",
    "    img = img.astype(np.float32)/255.\n",
    "    label = tensorflow.keras.utils.to_categorical(1, num_classes=2)\n",
    "    testing_data.append(img)\n",
    "    testing_labels.append(label)\n",
    "    \n",
    "testing_data = np.array(testing_data)\n",
    "testing_labels = np.array(testing_labels)\n",
    "\n",
    "print(\"Total number of test examples: \", testing_data.shape)\n",
    "print(\"Total number of labels:\", testing_labels.shape)\n",
    "\n",
    "test_loss, test_score = model.evaluate(testing_data, testing_labels, batch_size=32)\n",
    "print(\"Loss on test set: \", test_loss)\n",
    "print(\"Accuracy on test set: \", test_score)\n",
    "\n",
    "\n",
    "preds = model.predict(testing_data, batch_size = 32)\n",
    "preds = np.argmax(preds, axis=-1)\n",
    "\n",
    "orig_test_labels = np.argmax(testing_labels, axis=-1)\n",
    "print(orig_test_labels.shape)\n",
    "print(preds.shape)\n",
    "\n",
    "\n",
    "from sklearn.metrics import confusion_matrix\n",
    "cm = confusion_matrix(orig_test_labels, preds)\n",
    "cm"
   ]
  },
  {
   "cell_type": "code",
   "execution_count": 49,
   "id": "167d66b9",
   "metadata": {},
   "outputs": [
    {
     "data": {
      "image/png": "[encoded data removed]",
      "text/plain": [
       "<Figure size 432x288 with 1 Axes>"
      ]
     },
     "metadata": {
      "needs_background": "light"
     },
     "output_type": "display_data"
    }
   ],
   "source": [
    "accuracy = history.history['accuracy']\n",
    "val_accuracy = history.history['val_accuracy']\n",
    "loss = history.history['loss']\n",
    "val_loss = history.history['val_loss']\n",
    "\n",
    "epochs = range(len(accuracy))\n",
    "\n",
    "plt.plot(epochs, accuracy, 'r', label='Training Accuracy')\n",
    "plt.plot(epochs, val_accuracy, 'b', label='Validation Accuracy')\n",
    "plt.plot(epochs, loss, 'g', label='Training Loss')\n",
    "plt.plot(epochs, val_loss, 'y', label='Validation Loss')\n",
    "\n",
    "plt.title('Training and Validation of Loss  and Accuracy')\n",
    "plt.legend()\n",
    "plt.show()"
   ]
  },
  {
   "cell_type": "markdown",
   "id": "067148de",
   "metadata": {},
   "source": [
    "# Knowledge distillation"
   ]
  },
  {
   "cell_type": "code",
   "execution_count": 53,
   "id": "464515a5",
   "metadata": {},
   "outputs": [],
   "source": [
    "import tensorflow as tf\n",
    "from tensorflow import keras\n",
    "from tensorflow.keras import layers\n",
    "import numpy as np"
   ]
  },
  {
   "cell_type": "code",
   "execution_count": 54,
   "id": "ba840b4f",
   "metadata": {},
   "outputs": [],
   "source": [
    "class Distiller(keras.Model):\n",
    "    def __init__(self, student, teacher):\n",
    "        super(Distiller, self).__init__()\n",
    "        self.teacher = teacher\n",
    "        self.student = student\n",
    "\n",
    "    def compile(\n",
    "        self,\n",
    "        optimizer,\n",
    "        metrics,\n",
    "        student_loss_fn,\n",
    "        distillation_loss_fn,\n",
    "        alpha=0.1,\n",
    "        temperature=3,\n",
    "    ):\n",
    "        \"\"\" Configure the distiller.\n",
    "\n",
    "        Args:\n",
    "            optimizer: Keras optimizer for the student weights\n",
    "            metrics: Keras metrics for evaluation\n",
    "            student_loss_fn: Loss function of difference between student\n",
    "                predictions and ground-truth\n",
    "            distillation_loss_fn: Loss function of difference between soft\n",
    "                student predictions and soft teacher predictions\n",
    "            alpha: weight to student_loss_fn and 1-alpha to distillation_loss_fn\n",
    "            temperature: Temperature for softening probability distributions.\n",
    "                Larger temperature gives softer distributions.\n",
    "        \"\"\"\n",
    "        super(Distiller, self).compile(optimizer=optimizer, metrics=metrics)\n",
    "        self.student_loss_fn = student_loss_fn\n",
    "        self.distillation_loss_fn = distillation_loss_fn\n",
    "        self.alpha = alpha\n",
    "        self.temperature = temperature\n",
    "\n",
    "    def train_step(self, data):\n",
    "        # Unpack data\n",
    "        x, y = data\n",
    "\n",
    "        # Forward pass of teacher\n",
    "        teacher_predictions = self.teacher(x, training=False)\n",
    "\n",
    "        with tf.GradientTape() as tape:\n",
    "            # Forward pass of student\n",
    "            student_predictions = self.student(x, training=True)\n",
    "\n",
    "            # Compute losses\n",
    "            student_loss = self.student_loss_fn(y, student_predictions)\n",
    "            distillation_loss = self.distillation_loss_fn(\n",
    "                tf.nn.softmax(teacher_predictions / self.temperature, axis=1),\n",
    "                tf.nn.softmax(student_predictions / self.temperature, axis=1),\n",
    "            )\n",
    "            loss = self.alpha * student_loss + (1 - self.alpha) * distillation_loss\n",
    "\n",
    "        # Compute gradients\n",
    "        trainable_vars = self.student.trainable_variables\n",
    "        gradients = tape.gradient(loss, trainable_vars)\n",
    "\n",
    "        # Update weights\n",
    "        self.optimizer.apply_gradients(zip(gradients, trainable_vars))\n",
    "\n",
    "        # Update the metrics configured in `compile()`.\n",
    "        self.compiled_metrics.update_state(y, student_predictions)\n",
    "\n",
    "        # Return a dict of performance\n",
    "        results = {m.name: m.result() for m in self.metrics}\n",
    "        results.update(\n",
    "            {\"student_loss\": student_loss, \"distillation_loss\": distillation_loss}\n",
    "        )\n",
    "        return results\n",
    "\n",
    "    def test_step(self, data):\n",
    "        # Unpack the data\n",
    "        x, y = data\n",
    "\n",
    "        # Compute predictions\n",
    "        y_prediction = self.student(x, training=False)\n",
    "\n",
    "        # Calculate the loss\n",
    "        student_loss = self.student_loss_fn(y, y_prediction)\n",
    "\n",
    "        # Update the metrics.\n",
    "        self.compiled_metrics.update_state(y, y_prediction)\n",
    "\n",
    "        # Return a dict of performance\n",
    "        results = {m.name: m.result() for m in self.metrics}\n",
    "        results.update({\"student_loss\": student_loss})\n",
    "        return results"
   ]
  },
  {
   "cell_type": "code",
   "execution_count": 55,
   "id": "e25d4d58",
   "metadata": {},
   "outputs": [],
   "source": [
    "# Create the teacher\n",
    "teacher = keras.Sequential(\n",
    "    [\n",
    "        keras.Input(shape=(128, 128, 3)),\n",
    "        layers.Conv2D(256, (3, 3), strides=(2, 2), padding=\"same\"),\n",
    "        layers.LeakyReLU(alpha=0.2),\n",
    "        layers.MaxPooling2D(pool_size=(2, 2), strides=(2, 2), padding=\"same\"),\n",
    "        layers.Conv2D(512, (3, 3), strides=(2, 2), padding=\"same\"),\n",
    "        layers.Flatten(),\n",
    "        layers.Dense(2),\n",
    "    ],\n",
    "    name=\"teacher\",\n",
    ")\n",
    "\n",
    "# Create the student\n",
    "student = keras.Sequential(\n",
    "    [\n",
    "        keras.Input(shape=(128, 128, 3)),\n",
    "        layers.Conv2D(16, (3, 3), strides=(2, 2), padding=\"same\"),\n",
    "        layers.LeakyReLU(alpha=0.2),\n",
    "        layers.MaxPooling2D(pool_size=(2, 2), strides=(1, 1), padding=\"same\"),\n",
    "        layers.Conv2D(32, (3, 3), strides=(2, 2), padding=\"same\"),\n",
    "        layers.Flatten(),\n",
    "        layers.Dense(2),\n",
    "    ],\n",
    "    name=\"student\",\n",
    ")\n",
    "\n",
    "# Clone student for later comparison\n",
    "student_scratch = keras.models.clone_model(student)"
   ]
  },
  {
   "cell_type": "code",
   "execution_count": 59,
   "id": "4065d741",
   "metadata": {},
   "outputs": [
    {
     "ename": "ValueError",
     "evalue": "`y` argument is not supported when using `keras.utils.Sequence` as input.",
     "output_type": "error",
     "traceback": [
      "\u001b[1;31m---------------------------------------------------------------------------\u001b[0m",
      "\u001b[1;31mValueError\u001b[0m                                Traceback (most recent call last)",
      "\u001b[1;32m~\\AppData\\Local\\Temp/ipykernel_15500/2307945448.py\u001b[0m in \u001b[0;36m<module>\u001b[1;34m\u001b[0m\n\u001b[0;32m      7\u001b[0m \u001b[1;33m\u001b[0m\u001b[0m\n\u001b[0;32m      8\u001b[0m \u001b[1;31m# Train and evaluate teacher on data.\u001b[0m\u001b[1;33m\u001b[0m\u001b[1;33m\u001b[0m\u001b[1;33m\u001b[0m\u001b[0m\n\u001b[1;32m----> 9\u001b[1;33m \u001b[0mteacher\u001b[0m\u001b[1;33m.\u001b[0m\u001b[0mfit\u001b[0m\u001b[1;33m(\u001b[0m\u001b[0mtraining_set\u001b[0m\u001b[1;33m,\u001b[0m\u001b[0mtest_set\u001b[0m\u001b[1;33m,\u001b[0m\u001b[0mepochs\u001b[0m\u001b[1;33m=\u001b[0m\u001b[1;36m5\u001b[0m\u001b[1;33m)\u001b[0m\u001b[1;33m\u001b[0m\u001b[1;33m\u001b[0m\u001b[0m\n\u001b[0m",
      "\u001b[1;32m~\\.conda\\envs\\tensorflow\\lib\\site-packages\\tensorflow\\python\\keras\\engine\\training.py\u001b[0m in \u001b[0;36m_method_wrapper\u001b[1;34m(self, *args, **kwargs)\u001b[0m\n\u001b[0;32m    106\u001b[0m   \u001b[1;32mdef\u001b[0m \u001b[0m_method_wrapper\u001b[0m\u001b[1;33m(\u001b[0m\u001b[0mself\u001b[0m\u001b[1;33m,\u001b[0m \u001b[1;33m*\u001b[0m\u001b[0margs\u001b[0m\u001b[1;33m,\u001b[0m \u001b[1;33m**\u001b[0m\u001b[0mkwargs\u001b[0m\u001b[1;33m)\u001b[0m\u001b[1;33m:\u001b[0m\u001b[1;33m\u001b[0m\u001b[1;33m\u001b[0m\u001b[0m\n\u001b[0;32m    107\u001b[0m     \u001b[1;32mif\u001b[0m \u001b[1;32mnot\u001b[0m \u001b[0mself\u001b[0m\u001b[1;33m.\u001b[0m\u001b[0m_in_multi_worker_mode\u001b[0m\u001b[1;33m(\u001b[0m\u001b[1;33m)\u001b[0m\u001b[1;33m:\u001b[0m  \u001b[1;31m# pylint: disable=protected-access\u001b[0m\u001b[1;33m\u001b[0m\u001b[1;33m\u001b[0m\u001b[0m\n\u001b[1;32m--> 108\u001b[1;33m       \u001b[1;32mreturn\u001b[0m \u001b[0mmethod\u001b[0m\u001b[1;33m(\u001b[0m\u001b[0mself\u001b[0m\u001b[1;33m,\u001b[0m \u001b[1;33m*\u001b[0m\u001b[0margs\u001b[0m\u001b[1;33m,\u001b[0m \u001b[1;33m**\u001b[0m\u001b[0mkwargs\u001b[0m\u001b[1;33m)\u001b[0m\u001b[1;33m\u001b[0m\u001b[1;33m\u001b[0m\u001b[0m\n\u001b[0m\u001b[0;32m    109\u001b[0m \u001b[1;33m\u001b[0m\u001b[0m\n\u001b[0;32m    110\u001b[0m     \u001b[1;31m# Running inside `run_distribute_coordinator` already.\u001b[0m\u001b[1;33m\u001b[0m\u001b[1;33m\u001b[0m\u001b[1;33m\u001b[0m\u001b[0m\n",
      "\u001b[1;32m~\\.conda\\envs\\tensorflow\\lib\\site-packages\\tensorflow\\python\\keras\\engine\\training.py\u001b[0m in \u001b[0;36mfit\u001b[1;34m(self, x, y, batch_size, epochs, verbose, callbacks, validation_split, validation_data, shuffle, class_weight, sample_weight, initial_epoch, steps_per_epoch, validation_steps, validation_batch_size, validation_freq, max_queue_size, workers, use_multiprocessing)\u001b[0m\n\u001b[0;32m   1047\u001b[0m          \u001b[0mtraining_utils\u001b[0m\u001b[1;33m.\u001b[0m\u001b[0mRespectCompiledTrainableState\u001b[0m\u001b[1;33m(\u001b[0m\u001b[0mself\u001b[0m\u001b[1;33m)\u001b[0m\u001b[1;33m:\u001b[0m\u001b[1;33m\u001b[0m\u001b[1;33m\u001b[0m\u001b[0m\n\u001b[0;32m   1048\u001b[0m       \u001b[1;31m# Creates a `tf.data.Dataset` and handles batch and epoch iteration.\u001b[0m\u001b[1;33m\u001b[0m\u001b[1;33m\u001b[0m\u001b[1;33m\u001b[0m\u001b[0m\n\u001b[1;32m-> 1049\u001b[1;33m       data_handler = data_adapter.DataHandler(\n\u001b[0m\u001b[0;32m   1050\u001b[0m           \u001b[0mx\u001b[0m\u001b[1;33m=\u001b[0m\u001b[0mx\u001b[0m\u001b[1;33m,\u001b[0m\u001b[1;33m\u001b[0m\u001b[1;33m\u001b[0m\u001b[0m\n\u001b[0;32m   1051\u001b[0m           \u001b[0my\u001b[0m\u001b[1;33m=\u001b[0m\u001b[0my\u001b[0m\u001b[1;33m,\u001b[0m\u001b[1;33m\u001b[0m\u001b[1;33m\u001b[0m\u001b[0m\n",
      "\u001b[1;32m~\\.conda\\envs\\tensorflow\\lib\\site-packages\\tensorflow\\python\\keras\\engine\\data_adapter.py\u001b[0m in \u001b[0;36m__init__\u001b[1;34m(self, x, y, sample_weight, batch_size, steps_per_epoch, initial_epoch, epochs, shuffle, class_weight, max_queue_size, workers, use_multiprocessing, model, steps_per_execution)\u001b[0m\n\u001b[0;32m   1103\u001b[0m \u001b[1;33m\u001b[0m\u001b[0m\n\u001b[0;32m   1104\u001b[0m     \u001b[0madapter_cls\u001b[0m \u001b[1;33m=\u001b[0m \u001b[0mselect_data_adapter\u001b[0m\u001b[1;33m(\u001b[0m\u001b[0mx\u001b[0m\u001b[1;33m,\u001b[0m \u001b[0my\u001b[0m\u001b[1;33m)\u001b[0m\u001b[1;33m\u001b[0m\u001b[1;33m\u001b[0m\u001b[0m\n\u001b[1;32m-> 1105\u001b[1;33m     self._adapter = adapter_cls(\n\u001b[0m\u001b[0;32m   1106\u001b[0m         \u001b[0mx\u001b[0m\u001b[1;33m,\u001b[0m\u001b[1;33m\u001b[0m\u001b[1;33m\u001b[0m\u001b[0m\n\u001b[0;32m   1107\u001b[0m         \u001b[0my\u001b[0m\u001b[1;33m,\u001b[0m\u001b[1;33m\u001b[0m\u001b[1;33m\u001b[0m\u001b[0m\n",
      "\u001b[1;32m~\\.conda\\envs\\tensorflow\\lib\\site-packages\\tensorflow\\python\\keras\\engine\\data_adapter.py\u001b[0m in \u001b[0;36m__init__\u001b[1;34m(self, x, y, sample_weights, shuffle, workers, use_multiprocessing, max_queue_size, model, **kwargs)\u001b[0m\n\u001b[0;32m    897\u001b[0m                **kwargs):\n\u001b[0;32m    898\u001b[0m     \u001b[1;32mif\u001b[0m \u001b[1;32mnot\u001b[0m \u001b[0mis_none_or_empty\u001b[0m\u001b[1;33m(\u001b[0m\u001b[0my\u001b[0m\u001b[1;33m)\u001b[0m\u001b[1;33m:\u001b[0m\u001b[1;33m\u001b[0m\u001b[1;33m\u001b[0m\u001b[0m\n\u001b[1;32m--> 899\u001b[1;33m       raise ValueError(\"`y` argument is not supported when using \"\n\u001b[0m\u001b[0;32m    900\u001b[0m                        \"`keras.utils.Sequence` as input.\")\n\u001b[0;32m    901\u001b[0m     \u001b[1;32mif\u001b[0m \u001b[1;32mnot\u001b[0m \u001b[0mis_none_or_empty\u001b[0m\u001b[1;33m(\u001b[0m\u001b[0msample_weights\u001b[0m\u001b[1;33m)\u001b[0m\u001b[1;33m:\u001b[0m\u001b[1;33m\u001b[0m\u001b[1;33m\u001b[0m\u001b[0m\n",
      "\u001b[1;31mValueError\u001b[0m: `y` argument is not supported when using `keras.utils.Sequence` as input."
     ]
    }
   ],
   "source": [
    "# Train teacher as usual\n",
    "teacher.compile(\n",
    "    optimizer=keras.optimizers.Adam(),\n",
    "    loss=keras.losses.CategoricalCrossentropy(from_logits=True),\n",
    "    metrics=[keras.metrics.CategoricalAccuracy()],\n",
    ")\n",
    "\n",
    "# Train and evaluate teacher on data.\n",
    "teacher.fit(training_set,test_set,epochs=5)\n"
   ]
  },
  {
   "cell_type": "code",
   "execution_count": null,
   "id": "56dd3dec",
   "metadata": {},
   "outputs": [],
   "source": []
  }
 ],
 "metadata": {
  "kernelspec": {
   "display_name": "Python 3 (ipykernel)",
   "language": "python",
   "name": "python3"
  },
  "language_info": {
   "codemirror_mode": {
    "name": "ipython",
    "version": 3
   },
   "file_extension": ".py",
   "mimetype": "text/x-python",
   "name": "python",
   "nbconvert_exporter": "python",
   "pygments_lexer": "ipython3",
   "version": "3.8.11"
  }
 },
 "nbformat": 4,
 "nbformat_minor": 5
}
